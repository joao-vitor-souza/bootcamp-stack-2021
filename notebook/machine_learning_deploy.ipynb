{
 "cells": [
  {
   "cell_type": "markdown",
   "id": "60343520",
   "metadata": {},
   "source": [
    "## Stack - Projeto Human Resources Analytics"
   ]
  },
  {
   "cell_type": "markdown",
   "id": "1b1bad41",
   "metadata": {},
   "source": [
    "### Machine Learning."
   ]
  },
  {
   "cell_type": "code",
   "execution_count": 1,
   "id": "8d9b163d",
   "metadata": {},
   "outputs": [],
   "source": [
    "# Estrutura de dados e operações matemáticas.\n",
    "import pandas as pd\n",
    "import numpy as np\n",
    "\n",
    "# Operações com objetos temporais.\n",
    "import datetime\n",
    "\n",
    "# Leitura de arquivos.\n",
    "import glob\n",
    "\n",
    "# Conexão com o datalake.\n",
    "from minio import Minio\n",
    "\n",
    "# Visualização.\n",
    "import matplotlib.pyplot as plt\n",
    "\n",
    "# Filtrando avisos.\n",
    "import warnings\n",
    "warnings.filterwarnings('ignore')"
   ]
  },
  {
   "cell_type": "code",
   "execution_count": 2,
   "id": "f5274952",
   "metadata": {},
   "outputs": [],
   "source": [
    "# Instanciando cliente que fará conexão com o datalake.\n",
    "client = Minio(\n",
    "    \"localhost:9000\",         # IP e porta do datalake.\n",
    "    access_key=\"minioadmin\",  # Usuário.\n",
    "    secret_key=\"minioadmin\",  # Senha.\n",
    "    secure=False              # Desabilitando conexão segura.\n",
    ")"
   ]
  },
  {
   "cell_type": "markdown",
   "id": "838ed69f",
   "metadata": {},
   "source": [
    "### Baixando o Dataset do Data Lake."
   ]
  },
  {
   "cell_type": "code",
   "execution_count": 3,
   "id": "bfa60edd",
   "metadata": {},
   "outputs": [
    {
     "data": {
      "text/html": [
       "<div>\n",
       "<style scoped>\n",
       "    .dataframe tbody tr th:only-of-type {\n",
       "        vertical-align: middle;\n",
       "    }\n",
       "\n",
       "    .dataframe tbody tr th {\n",
       "        vertical-align: top;\n",
       "    }\n",
       "\n",
       "    .dataframe thead th {\n",
       "        text-align: right;\n",
       "    }\n",
       "</style>\n",
       "<table border=\"1\" class=\"dataframe\">\n",
       "  <thead>\n",
       "    <tr style=\"text-align: right;\">\n",
       "      <th></th>\n",
       "      <th>department</th>\n",
       "      <th>salary</th>\n",
       "      <th>left</th>\n",
       "      <th>mean_work_last_3_months</th>\n",
       "      <th>number_projects</th>\n",
       "      <th>satisfaction_level</th>\n",
       "      <th>last_evaluation</th>\n",
       "      <th>time_in_company</th>\n",
       "      <th>work_accident</th>\n",
       "    </tr>\n",
       "  </thead>\n",
       "  <tbody>\n",
       "    <tr>\n",
       "      <th>0</th>\n",
       "      <td>sales</td>\n",
       "      <td>low</td>\n",
       "      <td>1.0</td>\n",
       "      <td>266.000000</td>\n",
       "      <td>2.0</td>\n",
       "      <td>38.0</td>\n",
       "      <td>53.0</td>\n",
       "      <td>3.0</td>\n",
       "      <td>0.0</td>\n",
       "    </tr>\n",
       "    <tr>\n",
       "      <th>1</th>\n",
       "      <td>sales</td>\n",
       "      <td>medium</td>\n",
       "      <td>1.0</td>\n",
       "      <td>252.000000</td>\n",
       "      <td>5.0</td>\n",
       "      <td>80.0</td>\n",
       "      <td>86.0</td>\n",
       "      <td>6.0</td>\n",
       "      <td>0.0</td>\n",
       "    </tr>\n",
       "    <tr>\n",
       "      <th>2</th>\n",
       "      <td>sales</td>\n",
       "      <td>medium</td>\n",
       "      <td>1.0</td>\n",
       "      <td>289.666667</td>\n",
       "      <td>7.0</td>\n",
       "      <td>11.0</td>\n",
       "      <td>88.0</td>\n",
       "      <td>4.0</td>\n",
       "      <td>0.0</td>\n",
       "    </tr>\n",
       "    <tr>\n",
       "      <th>3</th>\n",
       "      <td>sales</td>\n",
       "      <td>low</td>\n",
       "      <td>1.0</td>\n",
       "      <td>275.666667</td>\n",
       "      <td>5.0</td>\n",
       "      <td>72.0</td>\n",
       "      <td>87.0</td>\n",
       "      <td>5.0</td>\n",
       "      <td>0.0</td>\n",
       "    </tr>\n",
       "    <tr>\n",
       "      <th>4</th>\n",
       "      <td>sales</td>\n",
       "      <td>low</td>\n",
       "      <td>1.0</td>\n",
       "      <td>292.333333</td>\n",
       "      <td>2.0</td>\n",
       "      <td>37.0</td>\n",
       "      <td>52.0</td>\n",
       "      <td>3.0</td>\n",
       "      <td>0.0</td>\n",
       "    </tr>\n",
       "  </tbody>\n",
       "</table>\n",
       "</div>"
      ],
      "text/plain": [
       "  department  salary  left  mean_work_last_3_months  number_projects  \\\n",
       "0      sales     low   1.0               266.000000              2.0   \n",
       "1      sales  medium   1.0               252.000000              5.0   \n",
       "2      sales  medium   1.0               289.666667              7.0   \n",
       "3      sales     low   1.0               275.666667              5.0   \n",
       "4      sales     low   1.0               292.333333              2.0   \n",
       "\n",
       "   satisfaction_level  last_evaluation  time_in_company  work_accident  \n",
       "0                38.0             53.0              3.0            0.0  \n",
       "1                80.0             86.0              6.0            0.0  \n",
       "2                11.0             88.0              4.0            0.0  \n",
       "3                72.0             87.0              5.0            0.0  \n",
       "4                37.0             52.0              3.0            0.0  "
      ]
     },
     "execution_count": 3,
     "metadata": {},
     "output_type": "execute_result"
    }
   ],
   "source": [
    "# Recuperando dataset completo do datalake.\n",
    "client.fget_object(\n",
    "    \"processing\",                 # Nome do bucket.\n",
    "    \"employees_dataset.parquet\",  # Nome do arquivo.\n",
    "    \"temp_.parquet\",              # Nome da cópia local que será feita do arquivo.\n",
    ")\n",
    "\n",
    "# Lendo o dataset local.\n",
    "df = pd.read_parquet(\"temp_.parquet\")\n",
    "\n",
    "df.head()"
   ]
  },
  {
   "cell_type": "markdown",
   "id": "fc2fa009",
   "metadata": {},
   "source": [
    "#### Organizando o dataset."
   ]
  },
  {
   "cell_type": "code",
   "execution_count": 4,
   "id": "2f5b7a35",
   "metadata": {},
   "outputs": [
    {
     "data": {
      "text/html": [
       "<div>\n",
       "<style scoped>\n",
       "    .dataframe tbody tr th:only-of-type {\n",
       "        vertical-align: middle;\n",
       "    }\n",
       "\n",
       "    .dataframe tbody tr th {\n",
       "        vertical-align: top;\n",
       "    }\n",
       "\n",
       "    .dataframe thead th {\n",
       "        text-align: right;\n",
       "    }\n",
       "</style>\n",
       "<table border=\"1\" class=\"dataframe\">\n",
       "  <thead>\n",
       "    <tr style=\"text-align: right;\">\n",
       "      <th></th>\n",
       "      <th>department</th>\n",
       "      <th>salary</th>\n",
       "      <th>mean_work_last_3_months</th>\n",
       "      <th>number_projects</th>\n",
       "      <th>satisfaction_level</th>\n",
       "      <th>last_evaluation</th>\n",
       "      <th>time_in_company</th>\n",
       "      <th>work_accident</th>\n",
       "      <th>left</th>\n",
       "    </tr>\n",
       "  </thead>\n",
       "  <tbody>\n",
       "    <tr>\n",
       "      <th>0</th>\n",
       "      <td>sales</td>\n",
       "      <td>low</td>\n",
       "      <td>266.000000</td>\n",
       "      <td>2.0</td>\n",
       "      <td>38.0</td>\n",
       "      <td>53.0</td>\n",
       "      <td>3.0</td>\n",
       "      <td>0.0</td>\n",
       "      <td>1.0</td>\n",
       "    </tr>\n",
       "    <tr>\n",
       "      <th>1</th>\n",
       "      <td>sales</td>\n",
       "      <td>medium</td>\n",
       "      <td>252.000000</td>\n",
       "      <td>5.0</td>\n",
       "      <td>80.0</td>\n",
       "      <td>86.0</td>\n",
       "      <td>6.0</td>\n",
       "      <td>0.0</td>\n",
       "      <td>1.0</td>\n",
       "    </tr>\n",
       "    <tr>\n",
       "      <th>2</th>\n",
       "      <td>sales</td>\n",
       "      <td>medium</td>\n",
       "      <td>289.666667</td>\n",
       "      <td>7.0</td>\n",
       "      <td>11.0</td>\n",
       "      <td>88.0</td>\n",
       "      <td>4.0</td>\n",
       "      <td>0.0</td>\n",
       "      <td>1.0</td>\n",
       "    </tr>\n",
       "    <tr>\n",
       "      <th>3</th>\n",
       "      <td>sales</td>\n",
       "      <td>low</td>\n",
       "      <td>275.666667</td>\n",
       "      <td>5.0</td>\n",
       "      <td>72.0</td>\n",
       "      <td>87.0</td>\n",
       "      <td>5.0</td>\n",
       "      <td>0.0</td>\n",
       "      <td>1.0</td>\n",
       "    </tr>\n",
       "    <tr>\n",
       "      <th>4</th>\n",
       "      <td>sales</td>\n",
       "      <td>low</td>\n",
       "      <td>292.333333</td>\n",
       "      <td>2.0</td>\n",
       "      <td>37.0</td>\n",
       "      <td>52.0</td>\n",
       "      <td>3.0</td>\n",
       "      <td>0.0</td>\n",
       "      <td>1.0</td>\n",
       "    </tr>\n",
       "  </tbody>\n",
       "</table>\n",
       "</div>"
      ],
      "text/plain": [
       "  department  salary  mean_work_last_3_months  number_projects  \\\n",
       "0      sales     low               266.000000              2.0   \n",
       "1      sales  medium               252.000000              5.0   \n",
       "2      sales  medium               289.666667              7.0   \n",
       "3      sales     low               275.666667              5.0   \n",
       "4      sales     low               292.333333              2.0   \n",
       "\n",
       "   satisfaction_level  last_evaluation  time_in_company  work_accident  left  \n",
       "0                38.0             53.0              3.0            0.0   1.0  \n",
       "1                80.0             86.0              6.0            0.0   1.0  \n",
       "2                11.0             88.0              4.0            0.0   1.0  \n",
       "3                72.0             87.0              5.0            0.0   1.0  \n",
       "4                37.0             52.0              3.0            0.0   1.0  "
      ]
     },
     "execution_count": 4,
     "metadata": {},
     "output_type": "execute_result"
    }
   ],
   "source": [
    "df = df[['department', 'salary', 'mean_work_last_3_months', 'number_projects', \n",
    "         'satisfaction_level', 'last_evaluation', 'time_in_company', 'work_accident','left']]\n",
    "\n",
    "df.head()"
   ]
  },
  {
   "cell_type": "markdown",
   "id": "2b4fa52c",
   "metadata": {},
   "source": [
    "#### Verificando valores nulos."
   ]
  },
  {
   "cell_type": "code",
   "execution_count": 5,
   "id": "65e92b9c",
   "metadata": {},
   "outputs": [
    {
     "data": {
      "text/plain": [
       "department                 1\n",
       "salary                     1\n",
       "mean_work_last_3_months    0\n",
       "number_projects            1\n",
       "satisfaction_level         1\n",
       "last_evaluation            1\n",
       "time_in_company            1\n",
       "work_accident              1\n",
       "left                       1\n",
       "dtype: int64"
      ]
     },
     "execution_count": 5,
     "metadata": {},
     "output_type": "execute_result"
    }
   ],
   "source": [
    "# Há um valor nulo.\n",
    "df.isnull().sum()"
   ]
  },
  {
   "cell_type": "code",
   "execution_count": 6,
   "id": "a6559f2c",
   "metadata": {},
   "outputs": [],
   "source": [
    "# Excluindo esse registro nulo.\n",
    "df.dropna(inplace=True)"
   ]
  },
  {
   "cell_type": "code",
   "execution_count": 7,
   "id": "7779e51b",
   "metadata": {},
   "outputs": [
    {
     "data": {
      "text/plain": [
       "0"
      ]
     },
     "execution_count": 7,
     "metadata": {},
     "output_type": "execute_result"
    }
   ],
   "source": [
    "df.isnull().sum().sum()"
   ]
  },
  {
   "cell_type": "markdown",
   "id": "6345aae2",
   "metadata": {},
   "source": [
    "#### Convertendo atributos para o tipo inteiro."
   ]
  },
  {
   "cell_type": "code",
   "execution_count": 8,
   "id": "3bed250e",
   "metadata": {},
   "outputs": [
    {
     "data": {
      "text/html": [
       "<div>\n",
       "<style scoped>\n",
       "    .dataframe tbody tr th:only-of-type {\n",
       "        vertical-align: middle;\n",
       "    }\n",
       "\n",
       "    .dataframe tbody tr th {\n",
       "        vertical-align: top;\n",
       "    }\n",
       "\n",
       "    .dataframe thead th {\n",
       "        text-align: right;\n",
       "    }\n",
       "</style>\n",
       "<table border=\"1\" class=\"dataframe\">\n",
       "  <thead>\n",
       "    <tr style=\"text-align: right;\">\n",
       "      <th></th>\n",
       "      <th>department</th>\n",
       "      <th>salary</th>\n",
       "      <th>mean_work_last_3_months</th>\n",
       "      <th>number_projects</th>\n",
       "      <th>satisfaction_level</th>\n",
       "      <th>last_evaluation</th>\n",
       "      <th>time_in_company</th>\n",
       "      <th>work_accident</th>\n",
       "      <th>left</th>\n",
       "    </tr>\n",
       "  </thead>\n",
       "  <tbody>\n",
       "    <tr>\n",
       "      <th>0</th>\n",
       "      <td>sales</td>\n",
       "      <td>low</td>\n",
       "      <td>266</td>\n",
       "      <td>2</td>\n",
       "      <td>38.0</td>\n",
       "      <td>53.0</td>\n",
       "      <td>3</td>\n",
       "      <td>0</td>\n",
       "      <td>1</td>\n",
       "    </tr>\n",
       "    <tr>\n",
       "      <th>1</th>\n",
       "      <td>sales</td>\n",
       "      <td>medium</td>\n",
       "      <td>252</td>\n",
       "      <td>5</td>\n",
       "      <td>80.0</td>\n",
       "      <td>86.0</td>\n",
       "      <td>6</td>\n",
       "      <td>0</td>\n",
       "      <td>1</td>\n",
       "    </tr>\n",
       "    <tr>\n",
       "      <th>2</th>\n",
       "      <td>sales</td>\n",
       "      <td>medium</td>\n",
       "      <td>289</td>\n",
       "      <td>7</td>\n",
       "      <td>11.0</td>\n",
       "      <td>88.0</td>\n",
       "      <td>4</td>\n",
       "      <td>0</td>\n",
       "      <td>1</td>\n",
       "    </tr>\n",
       "    <tr>\n",
       "      <th>3</th>\n",
       "      <td>sales</td>\n",
       "      <td>low</td>\n",
       "      <td>275</td>\n",
       "      <td>5</td>\n",
       "      <td>72.0</td>\n",
       "      <td>87.0</td>\n",
       "      <td>5</td>\n",
       "      <td>0</td>\n",
       "      <td>1</td>\n",
       "    </tr>\n",
       "    <tr>\n",
       "      <th>4</th>\n",
       "      <td>sales</td>\n",
       "      <td>low</td>\n",
       "      <td>292</td>\n",
       "      <td>2</td>\n",
       "      <td>37.0</td>\n",
       "      <td>52.0</td>\n",
       "      <td>3</td>\n",
       "      <td>0</td>\n",
       "      <td>1</td>\n",
       "    </tr>\n",
       "  </tbody>\n",
       "</table>\n",
       "</div>"
      ],
      "text/plain": [
       "  department  salary  mean_work_last_3_months  number_projects  \\\n",
       "0      sales     low                      266                2   \n",
       "1      sales  medium                      252                5   \n",
       "2      sales  medium                      289                7   \n",
       "3      sales     low                      275                5   \n",
       "4      sales     low                      292                2   \n",
       "\n",
       "   satisfaction_level  last_evaluation  time_in_company  work_accident  left  \n",
       "0                38.0             53.0                3              0     1  \n",
       "1                80.0             86.0                6              0     1  \n",
       "2                11.0             88.0                4              0     1  \n",
       "3                72.0             87.0                5              0     1  \n",
       "4                37.0             52.0                3              0     1  "
      ]
     },
     "execution_count": 8,
     "metadata": {},
     "output_type": "execute_result"
    }
   ],
   "source": [
    "df[\"number_projects\"] = df[\"number_projects\"].astype(int)\n",
    "df[\"mean_work_last_3_months\"] = df[\"mean_work_last_3_months\"].astype(int)\n",
    "df[\"time_in_company\"] = df[\"time_in_company\"].astype(int)\n",
    "df[\"work_accident\"] = df[\"work_accident\"].astype(int)\n",
    "df[\"left\"] = df[\"left\"].astype(int)\n",
    "\n",
    "df.head()"
   ]
  },
  {
   "cell_type": "code",
   "execution_count": 9,
   "id": "d41aab97",
   "metadata": {},
   "outputs": [
    {
     "name": "stdout",
     "output_type": "stream",
     "text": [
      "<class 'pandas.core.frame.DataFrame'>\n",
      "Int64Index: 14999 entries, 0 to 14998\n",
      "Data columns (total 9 columns):\n",
      " #   Column                   Non-Null Count  Dtype  \n",
      "---  ------                   --------------  -----  \n",
      " 0   department               14999 non-null  object \n",
      " 1   salary                   14999 non-null  object \n",
      " 2   mean_work_last_3_months  14999 non-null  int32  \n",
      " 3   number_projects          14999 non-null  int32  \n",
      " 4   satisfaction_level       14999 non-null  float64\n",
      " 5   last_evaluation          14999 non-null  float64\n",
      " 6   time_in_company          14999 non-null  int32  \n",
      " 7   work_accident            14999 non-null  int32  \n",
      " 8   left                     14999 non-null  int32  \n",
      "dtypes: float64(2), int32(5), object(2)\n",
      "memory usage: 878.8+ KB\n"
     ]
    }
   ],
   "source": [
    "df.info()"
   ]
  },
  {
   "cell_type": "markdown",
   "id": "0732373c",
   "metadata": {},
   "source": [
    "#### Renomeando atributos."
   ]
  },
  {
   "cell_type": "code",
   "execution_count": 10,
   "id": "e51e02de",
   "metadata": {},
   "outputs": [
    {
     "data": {
      "text/html": [
       "<div>\n",
       "<style scoped>\n",
       "    .dataframe tbody tr th:only-of-type {\n",
       "        vertical-align: middle;\n",
       "    }\n",
       "\n",
       "    .dataframe tbody tr th {\n",
       "        vertical-align: top;\n",
       "    }\n",
       "\n",
       "    .dataframe thead th {\n",
       "        text-align: right;\n",
       "    }\n",
       "</style>\n",
       "<table border=\"1\" class=\"dataframe\">\n",
       "  <thead>\n",
       "    <tr style=\"text-align: right;\">\n",
       "      <th></th>\n",
       "      <th>department</th>\n",
       "      <th>salary</th>\n",
       "      <th>averageMonthlyHours</th>\n",
       "      <th>projectCount</th>\n",
       "      <th>satisfaction</th>\n",
       "      <th>evaluation</th>\n",
       "      <th>yearsAtCompany</th>\n",
       "      <th>workAccident</th>\n",
       "      <th>turnover</th>\n",
       "    </tr>\n",
       "  </thead>\n",
       "  <tbody>\n",
       "    <tr>\n",
       "      <th>0</th>\n",
       "      <td>sales</td>\n",
       "      <td>low</td>\n",
       "      <td>266</td>\n",
       "      <td>2</td>\n",
       "      <td>38.0</td>\n",
       "      <td>53.0</td>\n",
       "      <td>3</td>\n",
       "      <td>0</td>\n",
       "      <td>1</td>\n",
       "    </tr>\n",
       "    <tr>\n",
       "      <th>1</th>\n",
       "      <td>sales</td>\n",
       "      <td>medium</td>\n",
       "      <td>252</td>\n",
       "      <td>5</td>\n",
       "      <td>80.0</td>\n",
       "      <td>86.0</td>\n",
       "      <td>6</td>\n",
       "      <td>0</td>\n",
       "      <td>1</td>\n",
       "    </tr>\n",
       "    <tr>\n",
       "      <th>2</th>\n",
       "      <td>sales</td>\n",
       "      <td>medium</td>\n",
       "      <td>289</td>\n",
       "      <td>7</td>\n",
       "      <td>11.0</td>\n",
       "      <td>88.0</td>\n",
       "      <td>4</td>\n",
       "      <td>0</td>\n",
       "      <td>1</td>\n",
       "    </tr>\n",
       "    <tr>\n",
       "      <th>3</th>\n",
       "      <td>sales</td>\n",
       "      <td>low</td>\n",
       "      <td>275</td>\n",
       "      <td>5</td>\n",
       "      <td>72.0</td>\n",
       "      <td>87.0</td>\n",
       "      <td>5</td>\n",
       "      <td>0</td>\n",
       "      <td>1</td>\n",
       "    </tr>\n",
       "    <tr>\n",
       "      <th>4</th>\n",
       "      <td>sales</td>\n",
       "      <td>low</td>\n",
       "      <td>292</td>\n",
       "      <td>2</td>\n",
       "      <td>37.0</td>\n",
       "      <td>52.0</td>\n",
       "      <td>3</td>\n",
       "      <td>0</td>\n",
       "      <td>1</td>\n",
       "    </tr>\n",
       "  </tbody>\n",
       "</table>\n",
       "</div>"
      ],
      "text/plain": [
       "  department  salary  averageMonthlyHours  projectCount  satisfaction  \\\n",
       "0      sales     low                  266             2          38.0   \n",
       "1      sales  medium                  252             5          80.0   \n",
       "2      sales  medium                  289             7          11.0   \n",
       "3      sales     low                  275             5          72.0   \n",
       "4      sales     low                  292             2          37.0   \n",
       "\n",
       "   evaluation  yearsAtCompany  workAccident  turnover  \n",
       "0        53.0               3             0         1  \n",
       "1        86.0               6             0         1  \n",
       "2        88.0               4             0         1  \n",
       "3        87.0               5             0         1  \n",
       "4        52.0               3             0         1  "
      ]
     },
     "execution_count": 10,
     "metadata": {},
     "output_type": "execute_result"
    }
   ],
   "source": [
    "df.rename(columns={'satisfaction_level': 'satisfaction', \n",
    "                   'last_evaluation': 'evaluation',\n",
    "                   'number_projects': 'projectCount',\n",
    "                   'mean_work_last_3_months': 'averageMonthlyHours',\n",
    "                   'time_in_company': 'yearsAtCompany',\n",
    "                   'work_accident': 'workAccident',\n",
    "                   'left' : 'turnover'\n",
    "                  }, inplace=True)\n",
    "\n",
    "df.head()"
   ]
  },
  {
   "cell_type": "markdown",
   "id": "e8fec143",
   "metadata": {},
   "source": [
    "## Pré-processamento"
   ]
  },
  {
   "cell_type": "markdown",
   "id": "d37217ce",
   "metadata": {},
   "source": [
    "#### Converte os atributos categóricos para valores numéricos."
   ]
  },
  {
   "cell_type": "code",
   "execution_count": 11,
   "id": "82cf4bb1",
   "metadata": {},
   "outputs": [
    {
     "data": {
      "text/html": [
       "<div>\n",
       "<style scoped>\n",
       "    .dataframe tbody tr th:only-of-type {\n",
       "        vertical-align: middle;\n",
       "    }\n",
       "\n",
       "    .dataframe tbody tr th {\n",
       "        vertical-align: top;\n",
       "    }\n",
       "\n",
       "    .dataframe thead th {\n",
       "        text-align: right;\n",
       "    }\n",
       "</style>\n",
       "<table border=\"1\" class=\"dataframe\">\n",
       "  <thead>\n",
       "    <tr style=\"text-align: right;\">\n",
       "      <th></th>\n",
       "      <th>department</th>\n",
       "      <th>salary</th>\n",
       "      <th>averageMonthlyHours</th>\n",
       "      <th>projectCount</th>\n",
       "      <th>satisfaction</th>\n",
       "      <th>evaluation</th>\n",
       "      <th>yearsAtCompany</th>\n",
       "      <th>workAccident</th>\n",
       "      <th>turnover</th>\n",
       "    </tr>\n",
       "  </thead>\n",
       "  <tbody>\n",
       "    <tr>\n",
       "      <th>0</th>\n",
       "      <td>7</td>\n",
       "      <td>1</td>\n",
       "      <td>266</td>\n",
       "      <td>2</td>\n",
       "      <td>38.0</td>\n",
       "      <td>53.0</td>\n",
       "      <td>3</td>\n",
       "      <td>0</td>\n",
       "      <td>1</td>\n",
       "    </tr>\n",
       "    <tr>\n",
       "      <th>1</th>\n",
       "      <td>7</td>\n",
       "      <td>2</td>\n",
       "      <td>252</td>\n",
       "      <td>5</td>\n",
       "      <td>80.0</td>\n",
       "      <td>86.0</td>\n",
       "      <td>6</td>\n",
       "      <td>0</td>\n",
       "      <td>1</td>\n",
       "    </tr>\n",
       "    <tr>\n",
       "      <th>2</th>\n",
       "      <td>7</td>\n",
       "      <td>2</td>\n",
       "      <td>289</td>\n",
       "      <td>7</td>\n",
       "      <td>11.0</td>\n",
       "      <td>88.0</td>\n",
       "      <td>4</td>\n",
       "      <td>0</td>\n",
       "      <td>1</td>\n",
       "    </tr>\n",
       "    <tr>\n",
       "      <th>3</th>\n",
       "      <td>7</td>\n",
       "      <td>1</td>\n",
       "      <td>275</td>\n",
       "      <td>5</td>\n",
       "      <td>72.0</td>\n",
       "      <td>87.0</td>\n",
       "      <td>5</td>\n",
       "      <td>0</td>\n",
       "      <td>1</td>\n",
       "    </tr>\n",
       "    <tr>\n",
       "      <th>4</th>\n",
       "      <td>7</td>\n",
       "      <td>1</td>\n",
       "      <td>292</td>\n",
       "      <td>2</td>\n",
       "      <td>37.0</td>\n",
       "      <td>52.0</td>\n",
       "      <td>3</td>\n",
       "      <td>0</td>\n",
       "      <td>1</td>\n",
       "    </tr>\n",
       "  </tbody>\n",
       "</table>\n",
       "</div>"
      ],
      "text/plain": [
       "   department  salary  averageMonthlyHours  projectCount  satisfaction  \\\n",
       "0           7       1                  266             2          38.0   \n",
       "1           7       2                  252             5          80.0   \n",
       "2           7       2                  289             7          11.0   \n",
       "3           7       1                  275             5          72.0   \n",
       "4           7       1                  292             2          37.0   \n",
       "\n",
       "   evaluation  yearsAtCompany  workAccident  turnover  \n",
       "0        53.0               3             0         1  \n",
       "1        86.0               6             0         1  \n",
       "2        88.0               4             0         1  \n",
       "3        87.0               5             0         1  \n",
       "4        52.0               3             0         1  "
      ]
     },
     "execution_count": 11,
     "metadata": {},
     "output_type": "execute_result"
    }
   ],
   "source": [
    "df[\"department\"] = df[\"department\"].astype('category').cat.codes\n",
    "df[\"salary\"] = df[\"salary\"].astype('category').cat.codes\n",
    "\n",
    "df.head()"
   ]
  },
  {
   "cell_type": "markdown",
   "id": "702c4176",
   "metadata": {},
   "source": [
    "#### Separando os conjuntos de dados."
   ]
  },
  {
   "cell_type": "code",
   "execution_count": 12,
   "id": "d1bfeadb",
   "metadata": {},
   "outputs": [],
   "source": [
    "target_name = 'turnover'\n",
    "X = df.drop(target_name, axis=1)\n",
    "y = df[target_name]"
   ]
  },
  {
   "cell_type": "markdown",
   "id": "884842ca",
   "metadata": {},
   "source": [
    "#### Transformando os dados."
   ]
  },
  {
   "cell_type": "code",
   "execution_count": 13,
   "id": "9c78bc04",
   "metadata": {},
   "outputs": [],
   "source": [
    "from sklearn.preprocessing import MinMaxScaler"
   ]
  },
  {
   "cell_type": "code",
   "execution_count": 14,
   "id": "7a8ffe3c",
   "metadata": {},
   "outputs": [],
   "source": [
    "scaler = MinMaxScaler()\n",
    "X = scaler.fit_transform(X)"
   ]
  },
  {
   "cell_type": "code",
   "execution_count": 15,
   "id": "360fa4fb",
   "metadata": {},
   "outputs": [
    {
     "data": {
      "text/plain": [
       "array([[0.77777778, 0.5       , 0.38202247, ..., 0.265625  , 0.125     ,\n",
       "        0.        ],\n",
       "       [0.77777778, 1.        , 0.2247191 , ..., 0.78125   , 0.5       ,\n",
       "        0.        ],\n",
       "       [0.77777778, 1.        , 0.64044944, ..., 0.8125    , 0.25      ,\n",
       "        0.        ],\n",
       "       ...,\n",
       "       [1.        , 1.        , 0.62921348, ..., 0.265625  , 0.125     ,\n",
       "        0.        ],\n",
       "       [0.88888889, 0.5       , 0.4494382 , ..., 0.9375    , 0.25      ,\n",
       "        0.        ],\n",
       "       [0.88888889, 0.5       , 0.49438202, ..., 0.25      , 0.125     ,\n",
       "        0.        ]])"
      ]
     },
     "execution_count": 15,
     "metadata": {},
     "output_type": "execute_result"
    }
   ],
   "source": [
    "X"
   ]
  },
  {
   "cell_type": "markdown",
   "id": "3f13d4d6",
   "metadata": {},
   "source": [
    "### Separando os conjuntos de dados."
   ]
  },
  {
   "cell_type": "markdown",
   "id": "b9fe0a1a",
   "metadata": {},
   "source": [
    "<img src=\"https://www.researchgate.net/profile/Brian-Mwandau/publication/325870973/figure/fig6/AS:639531594285060@1529487622235/Train-Test-Data-Split.png\" align=\"left\">"
   ]
  },
  {
   "cell_type": "code",
   "execution_count": 16,
   "id": "965c31d7",
   "metadata": {},
   "outputs": [],
   "source": [
    "from sklearn.model_selection import train_test_split"
   ]
  },
  {
   "cell_type": "code",
   "execution_count": 17,
   "id": "ab76666d",
   "metadata": {},
   "outputs": [],
   "source": [
    "# Divindo os dados em 20% para teste (80% para treino) e estratificando pelo valor de y (turnover).\n",
    "# A estratificação compensa o desbalanceio das classes e garante que a proporcionalidade do conjunto de\n",
    "# dados total será mantida nos splits de treino e teste.\n",
    "X_train, X_test, y_train, y_test = train_test_split(X, y, test_size=0.2, random_state=123, stratify=y)"
   ]
  },
  {
   "cell_type": "markdown",
   "id": "648148e9",
   "metadata": {},
   "source": [
    "#### Treinando o algoritmo de arvore de decisão."
   ]
  },
  {
   "cell_type": "code",
   "execution_count": 18,
   "id": "f99c9c51",
   "metadata": {},
   "outputs": [],
   "source": [
    "from sklearn.tree import DecisionTreeClassifier"
   ]
  },
  {
   "cell_type": "code",
   "execution_count": 19,
   "id": "b5b14190",
   "metadata": {},
   "outputs": [],
   "source": [
    "# Instanciando modelo de Árvore de Decisão.\n",
    "dtree = DecisionTreeClassifier()\n",
    "\n",
    "# Treinando o modelo.\n",
    "dtree = dtree.fit(X_train, y_train)"
   ]
  },
  {
   "cell_type": "code",
   "execution_count": 20,
   "id": "5479849c",
   "metadata": {},
   "outputs": [
    {
     "data": {
      "image/png": "[encoded data removed]",
      "text/plain": [
       "<Figure size 1080x360 with 1 Axes>"
      ]
     },
     "metadata": {
      "needs_background": "light"
     },
     "output_type": "display_data"
    }
   ],
   "source": [
    "# Tamanho da plotagem.\n",
    "plt.rcParams['figure.figsize'] = (15, 5)\n",
    "\n",
    "# Tamanho das fontes.\n",
    "plt.rcParams['axes.titlesize'] = 25   # Título.\n",
    "plt.rcParams['xtick.labelsize'] = 20  # Valores em x.\n",
    "plt.rcParams['ytick.labelsize'] = 20  # Valores em y.\n",
    "plt.rcParams['axes.labelsize'] = 20   # Rótulos dos eixos.\n",
    "\n",
    "# Importância de cada atributo treinado.\n",
    "importances = dtree.feature_importances_\n",
    "\n",
    "# Nome de cada atributo treinado.\n",
    "feat_names = df.drop([target_name], axis=1).columns\n",
    "\n",
    "# Ordenando índices com base no valor da importância.\n",
    "indices = np.argsort(importances)\n",
    "\n",
    "# Gerando gráfico de barras horizontal.\n",
    "plt.barh(feat_names[indices], importances[indices], align=\"center\")\n",
    "\n",
    "# Título da plotagem.\n",
    "plt.title(\"Feature importances by DecisionTreeClassifier\\n\")\n",
    "\n",
    "plt.show()"
   ]
  },
  {
   "cell_type": "markdown",
   "id": "7a2f50ad",
   "metadata": {},
   "source": [
    "#### Filtrando apenas os atributos relevantes."
   ]
  },
  {
   "cell_type": "code",
   "execution_count": 21,
   "id": "7363c56e",
   "metadata": {},
   "outputs": [],
   "source": [
    "X = df[[\"satisfaction\", \"evaluation\", \"averageMonthlyHours\", \"yearsAtCompany\"]]"
   ]
  },
  {
   "cell_type": "markdown",
   "id": "c608f61f",
   "metadata": {},
   "source": [
    "#### Separando os conjuntos de dados."
   ]
  },
  {
   "cell_type": "code",
   "execution_count": 22,
   "id": "b7bfe235",
   "metadata": {},
   "outputs": [],
   "source": [
    "scaler = MinMaxScaler()\n",
    "X = scaler.fit_transform(X)"
   ]
  },
  {
   "cell_type": "code",
   "execution_count": 23,
   "id": "6df47cb3",
   "metadata": {},
   "outputs": [],
   "source": [
    "X_train, X_test, y_train, y_test = train_test_split(X, y, test_size=0.2, random_state=123, stratify=y)"
   ]
  },
  {
   "cell_type": "code",
   "execution_count": 24,
   "id": "ee19664d",
   "metadata": {},
   "outputs": [
    {
     "data": {
      "text/plain": [
       "array([[0.59340659, 0.21875   , 0.40449438, 0.125     ],\n",
       "       [0.        , 0.703125  , 0.41573034, 0.25      ],\n",
       "       [0.9010989 , 0.34375   , 0.48314607, 0.125     ],\n",
       "       ...,\n",
       "       [0.2967033 , 0.234375  , 0.35955056, 0.125     ],\n",
       "       [0.92307692, 0.28125   , 0.46067416, 0.        ],\n",
       "       [0.51648352, 0.5       , 0.53932584, 0.125     ]])"
      ]
     },
     "execution_count": 24,
     "metadata": {},
     "output_type": "execute_result"
    }
   ],
   "source": [
    "X_train"
   ]
  },
  {
   "cell_type": "markdown",
   "id": "233aef35",
   "metadata": {},
   "source": [
    "#### Função do modelo de base."
   ]
  },
  {
   "cell_type": "code",
   "execution_count": 25,
   "id": "862ce2ee",
   "metadata": {},
   "outputs": [],
   "source": [
    "# O nosso modelo de base sempre gera o mesmo output, 0 (sem turnover). Ele é a nossa referência e mostrará\n",
    "# se todo o trabalho despendido na criação de outro modelo valeu o esforço, para isso precisaremos comparar\n",
    "# as métricas do nosso modelo com o modelo base.\n",
    "def base_rate_model(X):\n",
    "    y = np.zeros(X.shape[0])\n",
    "    return y"
   ]
  },
  {
   "cell_type": "markdown",
   "id": "9409f9ad",
   "metadata": {},
   "source": [
    "#### Importando métodos de métrica de avaliação."
   ]
  },
  {
   "cell_type": "code",
   "execution_count": 26,
   "id": "4c3e5be0",
   "metadata": {},
   "outputs": [],
   "source": [
    "from sklearn.metrics import roc_auc_score\n",
    "from sklearn.metrics import accuracy_score\n",
    "from sklearn.metrics import classification_report"
   ]
  },
  {
   "cell_type": "code",
   "execution_count": 27,
   "id": "f5a951ed",
   "metadata": {},
   "outputs": [],
   "source": [
    "def accuracy_result(y_test, y_predict):\n",
    "    acc = accuracy_score(y_test, y_predict)\n",
    "    print(\"Accuracy = %2.2f\" % acc)"
   ]
  },
  {
   "cell_type": "code",
   "execution_count": 28,
   "id": "c26617eb",
   "metadata": {},
   "outputs": [],
   "source": [
    "def roc_classification_report_results(model, y_test, y_predict):\n",
    "    roc_ = roc_auc_score(y_test, y_predict)\n",
    "    classfication_report = classification_report(y_test, y_predict)\n",
    "    \n",
    "    print(\"\\n{} AUC = {}\\n\".format(model, roc_))\n",
    "    print(classfication_report)"
   ]
  },
  {
   "cell_type": "markdown",
   "id": "08b4adeb",
   "metadata": {},
   "source": [
    "#### Análise do modelo de base."
   ]
  },
  {
   "cell_type": "code",
   "execution_count": 29,
   "id": "0aebf1fb",
   "metadata": {},
   "outputs": [],
   "source": [
    "y_predict = base_rate_model(X_test)"
   ]
  },
  {
   "cell_type": "code",
   "execution_count": 30,
   "id": "02804d58",
   "metadata": {},
   "outputs": [
    {
     "name": "stdout",
     "output_type": "stream",
     "text": [
      "Accuracy = 0.76\n"
     ]
    }
   ],
   "source": [
    "accuracy_result(y_test, y_predict)"
   ]
  },
  {
   "cell_type": "code",
   "execution_count": 31,
   "id": "905cac5f",
   "metadata": {},
   "outputs": [
    {
     "name": "stdout",
     "output_type": "stream",
     "text": [
      "\n",
      "Base Model AUC = 0.5\n",
      "\n",
      "              precision    recall  f1-score   support\n",
      "\n",
      "           0       0.76      1.00      0.86      2286\n",
      "           1       0.00      0.00      0.00       714\n",
      "\n",
      "    accuracy                           0.76      3000\n",
      "   macro avg       0.38      0.50      0.43      3000\n",
      "weighted avg       0.58      0.76      0.66      3000\n",
      "\n"
     ]
    }
   ],
   "source": [
    "roc_classification_report_results(\"Base Model\", y_test, y_predict)"
   ]
  },
  {
   "cell_type": "markdown",
   "id": "04850a75",
   "metadata": {},
   "source": [
    "### Modelo de Regressão Logística."
   ]
  },
  {
   "cell_type": "markdown",
   "id": "2bb74d4b",
   "metadata": {},
   "source": [
    "<img src=\"https://editor.analyticsvidhya.com/uploads/95588WhatsApp-Image-2020-02-11-at-8.30.11-PM.jpeg\" align=\"left\">"
   ]
  },
  {
   "cell_type": "markdown",
   "id": "9a11b173",
   "metadata": {},
   "source": [
    "#### Instanciando o algoritmo."
   ]
  },
  {
   "cell_type": "code",
   "execution_count": 32,
   "id": "f9f2bc15",
   "metadata": {},
   "outputs": [],
   "source": [
    "from sklearn.linear_model import LogisticRegression\n",
    "logis = LogisticRegression()"
   ]
  },
  {
   "cell_type": "markdown",
   "id": "a6369bc1",
   "metadata": {},
   "source": [
    "#### Realizando o treinamento."
   ]
  },
  {
   "cell_type": "code",
   "execution_count": 33,
   "id": "3f761af6",
   "metadata": {
    "scrolled": true
   },
   "outputs": [
    {
     "data": {
      "text/plain": [
       "LogisticRegression()"
      ]
     },
     "execution_count": 33,
     "metadata": {},
     "output_type": "execute_result"
    }
   ],
   "source": [
    "logis.fit(X_train, y_train)"
   ]
  },
  {
   "cell_type": "markdown",
   "id": "03651c5a",
   "metadata": {},
   "source": [
    "#### Calculando as predições."
   ]
  },
  {
   "cell_type": "code",
   "execution_count": 34,
   "id": "cd138e3c",
   "metadata": {},
   "outputs": [],
   "source": [
    "y_predict = logis.predict(X_test)"
   ]
  },
  {
   "cell_type": "markdown",
   "id": "ad0e75d9",
   "metadata": {},
   "source": [
    "#### Avaliando o resultado."
   ]
  },
  {
   "cell_type": "code",
   "execution_count": 35,
   "id": "da03dbe1",
   "metadata": {},
   "outputs": [
    {
     "name": "stdout",
     "output_type": "stream",
     "text": [
      "Accuracy = 0.76\n"
     ]
    }
   ],
   "source": [
    "accuracy_result(y_test, y_predict)"
   ]
  },
  {
   "cell_type": "code",
   "execution_count": 36,
   "id": "4800a256",
   "metadata": {},
   "outputs": [
    {
     "name": "stdout",
     "output_type": "stream",
     "text": [
      "\n",
      "Logistic Regression AUC = 0.5333579626076153\n",
      "\n",
      "              precision    recall  f1-score   support\n",
      "\n",
      "           0       0.77      0.97      0.86      2286\n",
      "           1       0.52      0.09      0.16       714\n",
      "\n",
      "    accuracy                           0.76      3000\n",
      "   macro avg       0.65      0.53      0.51      3000\n",
      "weighted avg       0.71      0.76      0.70      3000\n",
      "\n"
     ]
    }
   ],
   "source": [
    "roc_classification_report_results(\"Logistic Regression\", y_test, y_predict)"
   ]
  },
  {
   "cell_type": "markdown",
   "id": "00aaac7c",
   "metadata": {},
   "source": [
    "### Modelo de Arvore de decisão."
   ]
  },
  {
   "cell_type": "markdown",
   "id": "4e970892",
   "metadata": {},
   "source": [
    "<img src=\"https://www.devops.ae/wp-content/uploads/2021/04/decision-tree-classification-algorithm.png\" align=\"left\">"
   ]
  },
  {
   "cell_type": "markdown",
   "id": "33524aac",
   "metadata": {},
   "source": [
    "#### Instânciando o algoritmo."
   ]
  },
  {
   "cell_type": "code",
   "execution_count": 37,
   "id": "95c50872",
   "metadata": {},
   "outputs": [],
   "source": [
    "from sklearn.tree import DecisionTreeClassifier\n",
    "dtree = DecisionTreeClassifier()"
   ]
  },
  {
   "cell_type": "markdown",
   "id": "3d7ad1c8",
   "metadata": {},
   "source": [
    "#### Realizando o treinamento."
   ]
  },
  {
   "cell_type": "code",
   "execution_count": 38,
   "id": "edcca31f",
   "metadata": {
    "scrolled": true
   },
   "outputs": [],
   "source": [
    "dtree = dtree.fit(X_train, y_train)"
   ]
  },
  {
   "cell_type": "markdown",
   "id": "d3ac4673",
   "metadata": {},
   "source": [
    "#### Calculando as predições."
   ]
  },
  {
   "cell_type": "code",
   "execution_count": 39,
   "id": "9197176d",
   "metadata": {},
   "outputs": [],
   "source": [
    "y_predict = dtree.predict(X_test)"
   ]
  },
  {
   "cell_type": "markdown",
   "id": "56a32296",
   "metadata": {},
   "source": [
    "#### Avaliando o resultado."
   ]
  },
  {
   "cell_type": "code",
   "execution_count": 40,
   "id": "bf8ad9d3",
   "metadata": {},
   "outputs": [
    {
     "name": "stdout",
     "output_type": "stream",
     "text": [
      "Accuracy = 0.74\n"
     ]
    }
   ],
   "source": [
    "accuracy_result(y_test, y_predict)"
   ]
  },
  {
   "cell_type": "code",
   "execution_count": 41,
   "id": "93b86d22",
   "metadata": {},
   "outputs": [
    {
     "name": "stdout",
     "output_type": "stream",
     "text": [
      "\n",
      "Decision Tree AUC = 0.6506521243668071\n",
      "\n",
      "              precision    recall  f1-score   support\n",
      "\n",
      "           0       0.84      0.82      0.83      2286\n",
      "           1       0.45      0.48      0.47       714\n",
      "\n",
      "    accuracy                           0.74      3000\n",
      "   macro avg       0.64      0.65      0.65      3000\n",
      "weighted avg       0.74      0.74      0.74      3000\n",
      "\n"
     ]
    }
   ],
   "source": [
    "roc_classification_report_results(\"Decision Tree\", y_test, y_predict)"
   ]
  },
  {
   "cell_type": "markdown",
   "id": "cd27a5ab",
   "metadata": {},
   "source": [
    "### Modelo de Floresta Aleatória (Random Forest)"
   ]
  },
  {
   "cell_type": "markdown",
   "id": "49f3bd76",
   "metadata": {},
   "source": [
    "<img src=\"https://miro.medium.com/max/1200/0*YEwFetXQGPB8aDFV\" align=\"left\">"
   ]
  },
  {
   "cell_type": "markdown",
   "id": "9b42b9d5",
   "metadata": {},
   "source": [
    "#### Instânciando o algoritmo."
   ]
  },
  {
   "cell_type": "code",
   "execution_count": 42,
   "id": "6dab769b",
   "metadata": {},
   "outputs": [],
   "source": [
    "from sklearn.ensemble import RandomForestClassifier\n",
    "rf = RandomForestClassifier()"
   ]
  },
  {
   "cell_type": "markdown",
   "id": "193d0577",
   "metadata": {},
   "source": [
    "#### Realizando o treinamento."
   ]
  },
  {
   "cell_type": "code",
   "execution_count": 43,
   "id": "8469a48a",
   "metadata": {
    "scrolled": true
   },
   "outputs": [],
   "source": [
    "rf = rf.fit(X_train, y_train)"
   ]
  },
  {
   "cell_type": "markdown",
   "id": "3a77f475",
   "metadata": {},
   "source": [
    "#### Calculando as predições."
   ]
  },
  {
   "cell_type": "code",
   "execution_count": 44,
   "id": "58e16f6c",
   "metadata": {},
   "outputs": [],
   "source": [
    "y_predict = rf.predict(X_test)"
   ]
  },
  {
   "cell_type": "markdown",
   "id": "5b56117a",
   "metadata": {},
   "source": [
    "#### Avaliando o resultado."
   ]
  },
  {
   "cell_type": "code",
   "execution_count": 45,
   "id": "ee9583e8",
   "metadata": {},
   "outputs": [
    {
     "name": "stdout",
     "output_type": "stream",
     "text": [
      "Accuracy = 0.83\n"
     ]
    }
   ],
   "source": [
    "accuracy_result(y_test, y_predict)"
   ]
  },
  {
   "cell_type": "code",
   "execution_count": 46,
   "id": "8853f34b",
   "metadata": {},
   "outputs": [
    {
     "name": "stdout",
     "output_type": "stream",
     "text": [
      "\n",
      "Random Forest AUC = 0.720871288147805\n",
      "\n",
      "              precision    recall  f1-score   support\n",
      "\n",
      "           0       0.86      0.92      0.89      2286\n",
      "           1       0.68      0.52      0.59       714\n",
      "\n",
      "    accuracy                           0.83      3000\n",
      "   macro avg       0.77      0.72      0.74      3000\n",
      "weighted avg       0.82      0.83      0.82      3000\n",
      "\n"
     ]
    }
   ],
   "source": [
    "roc_classification_report_results(\"Random Forest\", y_test, y_predict)"
   ]
  },
  {
   "cell_type": "markdown",
   "id": "69e52b1b",
   "metadata": {},
   "source": [
    "### Pycaret"
   ]
  },
  {
   "cell_type": "markdown",
   "id": "49d25f56",
   "metadata": {},
   "source": [
    "<img src=\"https://miro.medium.com/max/1024/0*T3u62CFmhRgur_ZZ.png\" align=\"left\">"
   ]
  },
  {
   "cell_type": "markdown",
   "id": "421de2bf",
   "metadata": {},
   "source": [
    "#### Importando os métodos."
   ]
  },
  {
   "cell_type": "code",
   "execution_count": 47,
   "id": "0552d213",
   "metadata": {},
   "outputs": [],
   "source": [
    "from pycaret.classification import *"
   ]
  },
  {
   "cell_type": "markdown",
   "id": "2fa945c2",
   "metadata": {},
   "source": [
    "#### Definindo o Setup."
   ]
  },
  {
   "cell_type": "code",
   "execution_count": 48,
   "id": "5de9ab9b",
   "metadata": {
    "scrolled": true,
    "tags": []
   },
   "outputs": [
    {
     "data": {
      "text/html": [
       "<style type=\"text/css\">\n",
       "#T_d1ee4_row29_col1, #T_d1ee4_row44_col1, #T_d1ee4_row58_col1 {\n",
       "  background-color: lightgreen;\n",
       "}\n",
       "</style>\n",
       "<table id=\"T_d1ee4_\">\n",
       "  <thead>\n",
       "    <tr>\n",
       "      <th class=\"blank level0\" >&nbsp;</th>\n",
       "      <th class=\"col_heading level0 col0\" >Description</th>\n",
       "      <th class=\"col_heading level0 col1\" >Value</th>\n",
       "    </tr>\n",
       "  </thead>\n",
       "  <tbody>\n",
       "    <tr>\n",
       "      <th id=\"T_d1ee4_level0_row0\" class=\"row_heading level0 row0\" >0</th>\n",
       "      <td id=\"T_d1ee4_row0_col0\" class=\"data row0 col0\" >session_id</td>\n",
       "      <td id=\"T_d1ee4_row0_col1\" class=\"data row0 col1\" >2504</td>\n",
       "    </tr>\n",
       "    <tr>\n",
       "      <th id=\"T_d1ee4_level0_row1\" class=\"row_heading level0 row1\" >1</th>\n",
       "      <td id=\"T_d1ee4_row1_col0\" class=\"data row1 col0\" >Target</td>\n",
       "      <td id=\"T_d1ee4_row1_col1\" class=\"data row1 col1\" >turnover</td>\n",
       "    </tr>\n",
       "    <tr>\n",
       "      <th id=\"T_d1ee4_level0_row2\" class=\"row_heading level0 row2\" >2</th>\n",
       "      <td id=\"T_d1ee4_row2_col0\" class=\"data row2 col0\" >Target Type</td>\n",
       "      <td id=\"T_d1ee4_row2_col1\" class=\"data row2 col1\" >Binary</td>\n",
       "    </tr>\n",
       "    <tr>\n",
       "      <th id=\"T_d1ee4_level0_row3\" class=\"row_heading level0 row3\" >3</th>\n",
       "      <td id=\"T_d1ee4_row3_col0\" class=\"data row3 col0\" >Label Encoded</td>\n",
       "      <td id=\"T_d1ee4_row3_col1\" class=\"data row3 col1\" >None</td>\n",
       "    </tr>\n",
       "    <tr>\n",
       "      <th id=\"T_d1ee4_level0_row4\" class=\"row_heading level0 row4\" >4</th>\n",
       "      <td id=\"T_d1ee4_row4_col0\" class=\"data row4 col0\" >Original Data</td>\n",
       "      <td id=\"T_d1ee4_row4_col1\" class=\"data row4 col1\" >(14999, 5)</td>\n",
       "    </tr>\n",
       "    <tr>\n",
       "      <th id=\"T_d1ee4_level0_row5\" class=\"row_heading level0 row5\" >5</th>\n",
       "      <td id=\"T_d1ee4_row5_col0\" class=\"data row5 col0\" >Missing Values</td>\n",
       "      <td id=\"T_d1ee4_row5_col1\" class=\"data row5 col1\" >False</td>\n",
       "    </tr>\n",
       "    <tr>\n",
       "      <th id=\"T_d1ee4_level0_row6\" class=\"row_heading level0 row6\" >6</th>\n",
       "      <td id=\"T_d1ee4_row6_col0\" class=\"data row6 col0\" >Numeric Features</td>\n",
       "      <td id=\"T_d1ee4_row6_col1\" class=\"data row6 col1\" >4</td>\n",
       "    </tr>\n",
       "    <tr>\n",
       "      <th id=\"T_d1ee4_level0_row7\" class=\"row_heading level0 row7\" >7</th>\n",
       "      <td id=\"T_d1ee4_row7_col0\" class=\"data row7 col0\" >Categorical Features</td>\n",
       "      <td id=\"T_d1ee4_row7_col1\" class=\"data row7 col1\" >0</td>\n",
       "    </tr>\n",
       "    <tr>\n",
       "      <th id=\"T_d1ee4_level0_row8\" class=\"row_heading level0 row8\" >8</th>\n",
       "      <td id=\"T_d1ee4_row8_col0\" class=\"data row8 col0\" >Ordinal Features</td>\n",
       "      <td id=\"T_d1ee4_row8_col1\" class=\"data row8 col1\" >False</td>\n",
       "    </tr>\n",
       "    <tr>\n",
       "      <th id=\"T_d1ee4_level0_row9\" class=\"row_heading level0 row9\" >9</th>\n",
       "      <td id=\"T_d1ee4_row9_col0\" class=\"data row9 col0\" >High Cardinality Features</td>\n",
       "      <td id=\"T_d1ee4_row9_col1\" class=\"data row9 col1\" >False</td>\n",
       "    </tr>\n",
       "    <tr>\n",
       "      <th id=\"T_d1ee4_level0_row10\" class=\"row_heading level0 row10\" >10</th>\n",
       "      <td id=\"T_d1ee4_row10_col0\" class=\"data row10 col0\" >High Cardinality Method</td>\n",
       "      <td id=\"T_d1ee4_row10_col1\" class=\"data row10 col1\" >None</td>\n",
       "    </tr>\n",
       "    <tr>\n",
       "      <th id=\"T_d1ee4_level0_row11\" class=\"row_heading level0 row11\" >11</th>\n",
       "      <td id=\"T_d1ee4_row11_col0\" class=\"data row11 col0\" >Transformed Train Set</td>\n",
       "      <td id=\"T_d1ee4_row11_col1\" class=\"data row11 col1\" >(10499, 4)</td>\n",
       "    </tr>\n",
       "    <tr>\n",
       "      <th id=\"T_d1ee4_level0_row12\" class=\"row_heading level0 row12\" >12</th>\n",
       "      <td id=\"T_d1ee4_row12_col0\" class=\"data row12 col0\" >Transformed Test Set</td>\n",
       "      <td id=\"T_d1ee4_row12_col1\" class=\"data row12 col1\" >(4500, 4)</td>\n",
       "    </tr>\n",
       "    <tr>\n",
       "      <th id=\"T_d1ee4_level0_row13\" class=\"row_heading level0 row13\" >13</th>\n",
       "      <td id=\"T_d1ee4_row13_col0\" class=\"data row13 col0\" >Shuffle Train-Test</td>\n",
       "      <td id=\"T_d1ee4_row13_col1\" class=\"data row13 col1\" >True</td>\n",
       "    </tr>\n",
       "    <tr>\n",
       "      <th id=\"T_d1ee4_level0_row14\" class=\"row_heading level0 row14\" >14</th>\n",
       "      <td id=\"T_d1ee4_row14_col0\" class=\"data row14 col0\" >Stratify Train-Test</td>\n",
       "      <td id=\"T_d1ee4_row14_col1\" class=\"data row14 col1\" >True</td>\n",
       "    </tr>\n",
       "    <tr>\n",
       "      <th id=\"T_d1ee4_level0_row15\" class=\"row_heading level0 row15\" >15</th>\n",
       "      <td id=\"T_d1ee4_row15_col0\" class=\"data row15 col0\" >Fold Generator</td>\n",
       "      <td id=\"T_d1ee4_row15_col1\" class=\"data row15 col1\" >StratifiedKFold</td>\n",
       "    </tr>\n",
       "    <tr>\n",
       "      <th id=\"T_d1ee4_level0_row16\" class=\"row_heading level0 row16\" >16</th>\n",
       "      <td id=\"T_d1ee4_row16_col0\" class=\"data row16 col0\" >Fold Number</td>\n",
       "      <td id=\"T_d1ee4_row16_col1\" class=\"data row16 col1\" >10</td>\n",
       "    </tr>\n",
       "    <tr>\n",
       "      <th id=\"T_d1ee4_level0_row17\" class=\"row_heading level0 row17\" >17</th>\n",
       "      <td id=\"T_d1ee4_row17_col0\" class=\"data row17 col0\" >CPU Jobs</td>\n",
       "      <td id=\"T_d1ee4_row17_col1\" class=\"data row17 col1\" >-1</td>\n",
       "    </tr>\n",
       "    <tr>\n",
       "      <th id=\"T_d1ee4_level0_row18\" class=\"row_heading level0 row18\" >18</th>\n",
       "      <td id=\"T_d1ee4_row18_col0\" class=\"data row18 col0\" >Use GPU</td>\n",
       "      <td id=\"T_d1ee4_row18_col1\" class=\"data row18 col1\" >False</td>\n",
       "    </tr>\n",
       "    <tr>\n",
       "      <th id=\"T_d1ee4_level0_row19\" class=\"row_heading level0 row19\" >19</th>\n",
       "      <td id=\"T_d1ee4_row19_col0\" class=\"data row19 col0\" >Log Experiment</td>\n",
       "      <td id=\"T_d1ee4_row19_col1\" class=\"data row19 col1\" >False</td>\n",
       "    </tr>\n",
       "    <tr>\n",
       "      <th id=\"T_d1ee4_level0_row20\" class=\"row_heading level0 row20\" >20</th>\n",
       "      <td id=\"T_d1ee4_row20_col0\" class=\"data row20 col0\" >Experiment Name</td>\n",
       "      <td id=\"T_d1ee4_row20_col1\" class=\"data row20 col1\" >clf-default-name</td>\n",
       "    </tr>\n",
       "    <tr>\n",
       "      <th id=\"T_d1ee4_level0_row21\" class=\"row_heading level0 row21\" >21</th>\n",
       "      <td id=\"T_d1ee4_row21_col0\" class=\"data row21 col0\" >USI</td>\n",
       "      <td id=\"T_d1ee4_row21_col1\" class=\"data row21 col1\" >b7de</td>\n",
       "    </tr>\n",
       "    <tr>\n",
       "      <th id=\"T_d1ee4_level0_row22\" class=\"row_heading level0 row22\" >22</th>\n",
       "      <td id=\"T_d1ee4_row22_col0\" class=\"data row22 col0\" >Imputation Type</td>\n",
       "      <td id=\"T_d1ee4_row22_col1\" class=\"data row22 col1\" >simple</td>\n",
       "    </tr>\n",
       "    <tr>\n",
       "      <th id=\"T_d1ee4_level0_row23\" class=\"row_heading level0 row23\" >23</th>\n",
       "      <td id=\"T_d1ee4_row23_col0\" class=\"data row23 col0\" >Iterative Imputation Iteration</td>\n",
       "      <td id=\"T_d1ee4_row23_col1\" class=\"data row23 col1\" >None</td>\n",
       "    </tr>\n",
       "    <tr>\n",
       "      <th id=\"T_d1ee4_level0_row24\" class=\"row_heading level0 row24\" >24</th>\n",
       "      <td id=\"T_d1ee4_row24_col0\" class=\"data row24 col0\" >Numeric Imputer</td>\n",
       "      <td id=\"T_d1ee4_row24_col1\" class=\"data row24 col1\" >mean</td>\n",
       "    </tr>\n",
       "    <tr>\n",
       "      <th id=\"T_d1ee4_level0_row25\" class=\"row_heading level0 row25\" >25</th>\n",
       "      <td id=\"T_d1ee4_row25_col0\" class=\"data row25 col0\" >Iterative Imputation Numeric Model</td>\n",
       "      <td id=\"T_d1ee4_row25_col1\" class=\"data row25 col1\" >None</td>\n",
       "    </tr>\n",
       "    <tr>\n",
       "      <th id=\"T_d1ee4_level0_row26\" class=\"row_heading level0 row26\" >26</th>\n",
       "      <td id=\"T_d1ee4_row26_col0\" class=\"data row26 col0\" >Categorical Imputer</td>\n",
       "      <td id=\"T_d1ee4_row26_col1\" class=\"data row26 col1\" >constant</td>\n",
       "    </tr>\n",
       "    <tr>\n",
       "      <th id=\"T_d1ee4_level0_row27\" class=\"row_heading level0 row27\" >27</th>\n",
       "      <td id=\"T_d1ee4_row27_col0\" class=\"data row27 col0\" >Iterative Imputation Categorical Model</td>\n",
       "      <td id=\"T_d1ee4_row27_col1\" class=\"data row27 col1\" >None</td>\n",
       "    </tr>\n",
       "    <tr>\n",
       "      <th id=\"T_d1ee4_level0_row28\" class=\"row_heading level0 row28\" >28</th>\n",
       "      <td id=\"T_d1ee4_row28_col0\" class=\"data row28 col0\" >Unknown Categoricals Handling</td>\n",
       "      <td id=\"T_d1ee4_row28_col1\" class=\"data row28 col1\" >least_frequent</td>\n",
       "    </tr>\n",
       "    <tr>\n",
       "      <th id=\"T_d1ee4_level0_row29\" class=\"row_heading level0 row29\" >29</th>\n",
       "      <td id=\"T_d1ee4_row29_col0\" class=\"data row29 col0\" >Normalize</td>\n",
       "      <td id=\"T_d1ee4_row29_col1\" class=\"data row29 col1\" >True</td>\n",
       "    </tr>\n",
       "    <tr>\n",
       "      <th id=\"T_d1ee4_level0_row30\" class=\"row_heading level0 row30\" >30</th>\n",
       "      <td id=\"T_d1ee4_row30_col0\" class=\"data row30 col0\" >Normalize Method</td>\n",
       "      <td id=\"T_d1ee4_row30_col1\" class=\"data row30 col1\" >minmax</td>\n",
       "    </tr>\n",
       "    <tr>\n",
       "      <th id=\"T_d1ee4_level0_row31\" class=\"row_heading level0 row31\" >31</th>\n",
       "      <td id=\"T_d1ee4_row31_col0\" class=\"data row31 col0\" >Transformation</td>\n",
       "      <td id=\"T_d1ee4_row31_col1\" class=\"data row31 col1\" >False</td>\n",
       "    </tr>\n",
       "    <tr>\n",
       "      <th id=\"T_d1ee4_level0_row32\" class=\"row_heading level0 row32\" >32</th>\n",
       "      <td id=\"T_d1ee4_row32_col0\" class=\"data row32 col0\" >Transformation Method</td>\n",
       "      <td id=\"T_d1ee4_row32_col1\" class=\"data row32 col1\" >None</td>\n",
       "    </tr>\n",
       "    <tr>\n",
       "      <th id=\"T_d1ee4_level0_row33\" class=\"row_heading level0 row33\" >33</th>\n",
       "      <td id=\"T_d1ee4_row33_col0\" class=\"data row33 col0\" >PCA</td>\n",
       "      <td id=\"T_d1ee4_row33_col1\" class=\"data row33 col1\" >False</td>\n",
       "    </tr>\n",
       "    <tr>\n",
       "      <th id=\"T_d1ee4_level0_row34\" class=\"row_heading level0 row34\" >34</th>\n",
       "      <td id=\"T_d1ee4_row34_col0\" class=\"data row34 col0\" >PCA Method</td>\n",
       "      <td id=\"T_d1ee4_row34_col1\" class=\"data row34 col1\" >None</td>\n",
       "    </tr>\n",
       "    <tr>\n",
       "      <th id=\"T_d1ee4_level0_row35\" class=\"row_heading level0 row35\" >35</th>\n",
       "      <td id=\"T_d1ee4_row35_col0\" class=\"data row35 col0\" >PCA Components</td>\n",
       "      <td id=\"T_d1ee4_row35_col1\" class=\"data row35 col1\" >None</td>\n",
       "    </tr>\n",
       "    <tr>\n",
       "      <th id=\"T_d1ee4_level0_row36\" class=\"row_heading level0 row36\" >36</th>\n",
       "      <td id=\"T_d1ee4_row36_col0\" class=\"data row36 col0\" >Ignore Low Variance</td>\n",
       "      <td id=\"T_d1ee4_row36_col1\" class=\"data row36 col1\" >False</td>\n",
       "    </tr>\n",
       "    <tr>\n",
       "      <th id=\"T_d1ee4_level0_row37\" class=\"row_heading level0 row37\" >37</th>\n",
       "      <td id=\"T_d1ee4_row37_col0\" class=\"data row37 col0\" >Combine Rare Levels</td>\n",
       "      <td id=\"T_d1ee4_row37_col1\" class=\"data row37 col1\" >False</td>\n",
       "    </tr>\n",
       "    <tr>\n",
       "      <th id=\"T_d1ee4_level0_row38\" class=\"row_heading level0 row38\" >38</th>\n",
       "      <td id=\"T_d1ee4_row38_col0\" class=\"data row38 col0\" >Rare Level Threshold</td>\n",
       "      <td id=\"T_d1ee4_row38_col1\" class=\"data row38 col1\" >None</td>\n",
       "    </tr>\n",
       "    <tr>\n",
       "      <th id=\"T_d1ee4_level0_row39\" class=\"row_heading level0 row39\" >39</th>\n",
       "      <td id=\"T_d1ee4_row39_col0\" class=\"data row39 col0\" >Numeric Binning</td>\n",
       "      <td id=\"T_d1ee4_row39_col1\" class=\"data row39 col1\" >False</td>\n",
       "    </tr>\n",
       "    <tr>\n",
       "      <th id=\"T_d1ee4_level0_row40\" class=\"row_heading level0 row40\" >40</th>\n",
       "      <td id=\"T_d1ee4_row40_col0\" class=\"data row40 col0\" >Remove Outliers</td>\n",
       "      <td id=\"T_d1ee4_row40_col1\" class=\"data row40 col1\" >False</td>\n",
       "    </tr>\n",
       "    <tr>\n",
       "      <th id=\"T_d1ee4_level0_row41\" class=\"row_heading level0 row41\" >41</th>\n",
       "      <td id=\"T_d1ee4_row41_col0\" class=\"data row41 col0\" >Outliers Threshold</td>\n",
       "      <td id=\"T_d1ee4_row41_col1\" class=\"data row41 col1\" >None</td>\n",
       "    </tr>\n",
       "    <tr>\n",
       "      <th id=\"T_d1ee4_level0_row42\" class=\"row_heading level0 row42\" >42</th>\n",
       "      <td id=\"T_d1ee4_row42_col0\" class=\"data row42 col0\" >Remove Multicollinearity</td>\n",
       "      <td id=\"T_d1ee4_row42_col1\" class=\"data row42 col1\" >False</td>\n",
       "    </tr>\n",
       "    <tr>\n",
       "      <th id=\"T_d1ee4_level0_row43\" class=\"row_heading level0 row43\" >43</th>\n",
       "      <td id=\"T_d1ee4_row43_col0\" class=\"data row43 col0\" >Multicollinearity Threshold</td>\n",
       "      <td id=\"T_d1ee4_row43_col1\" class=\"data row43 col1\" >None</td>\n",
       "    </tr>\n",
       "    <tr>\n",
       "      <th id=\"T_d1ee4_level0_row44\" class=\"row_heading level0 row44\" >44</th>\n",
       "      <td id=\"T_d1ee4_row44_col0\" class=\"data row44 col0\" >Remove Perfect Collinearity</td>\n",
       "      <td id=\"T_d1ee4_row44_col1\" class=\"data row44 col1\" >True</td>\n",
       "    </tr>\n",
       "    <tr>\n",
       "      <th id=\"T_d1ee4_level0_row45\" class=\"row_heading level0 row45\" >45</th>\n",
       "      <td id=\"T_d1ee4_row45_col0\" class=\"data row45 col0\" >Clustering</td>\n",
       "      <td id=\"T_d1ee4_row45_col1\" class=\"data row45 col1\" >False</td>\n",
       "    </tr>\n",
       "    <tr>\n",
       "      <th id=\"T_d1ee4_level0_row46\" class=\"row_heading level0 row46\" >46</th>\n",
       "      <td id=\"T_d1ee4_row46_col0\" class=\"data row46 col0\" >Clustering Iteration</td>\n",
       "      <td id=\"T_d1ee4_row46_col1\" class=\"data row46 col1\" >None</td>\n",
       "    </tr>\n",
       "    <tr>\n",
       "      <th id=\"T_d1ee4_level0_row47\" class=\"row_heading level0 row47\" >47</th>\n",
       "      <td id=\"T_d1ee4_row47_col0\" class=\"data row47 col0\" >Polynomial Features</td>\n",
       "      <td id=\"T_d1ee4_row47_col1\" class=\"data row47 col1\" >False</td>\n",
       "    </tr>\n",
       "    <tr>\n",
       "      <th id=\"T_d1ee4_level0_row48\" class=\"row_heading level0 row48\" >48</th>\n",
       "      <td id=\"T_d1ee4_row48_col0\" class=\"data row48 col0\" >Polynomial Degree</td>\n",
       "      <td id=\"T_d1ee4_row48_col1\" class=\"data row48 col1\" >None</td>\n",
       "    </tr>\n",
       "    <tr>\n",
       "      <th id=\"T_d1ee4_level0_row49\" class=\"row_heading level0 row49\" >49</th>\n",
       "      <td id=\"T_d1ee4_row49_col0\" class=\"data row49 col0\" >Trignometry Features</td>\n",
       "      <td id=\"T_d1ee4_row49_col1\" class=\"data row49 col1\" >False</td>\n",
       "    </tr>\n",
       "    <tr>\n",
       "      <th id=\"T_d1ee4_level0_row50\" class=\"row_heading level0 row50\" >50</th>\n",
       "      <td id=\"T_d1ee4_row50_col0\" class=\"data row50 col0\" >Polynomial Threshold</td>\n",
       "      <td id=\"T_d1ee4_row50_col1\" class=\"data row50 col1\" >None</td>\n",
       "    </tr>\n",
       "    <tr>\n",
       "      <th id=\"T_d1ee4_level0_row51\" class=\"row_heading level0 row51\" >51</th>\n",
       "      <td id=\"T_d1ee4_row51_col0\" class=\"data row51 col0\" >Group Features</td>\n",
       "      <td id=\"T_d1ee4_row51_col1\" class=\"data row51 col1\" >False</td>\n",
       "    </tr>\n",
       "    <tr>\n",
       "      <th id=\"T_d1ee4_level0_row52\" class=\"row_heading level0 row52\" >52</th>\n",
       "      <td id=\"T_d1ee4_row52_col0\" class=\"data row52 col0\" >Feature Selection</td>\n",
       "      <td id=\"T_d1ee4_row52_col1\" class=\"data row52 col1\" >False</td>\n",
       "    </tr>\n",
       "    <tr>\n",
       "      <th id=\"T_d1ee4_level0_row53\" class=\"row_heading level0 row53\" >53</th>\n",
       "      <td id=\"T_d1ee4_row53_col0\" class=\"data row53 col0\" >Feature Selection Method</td>\n",
       "      <td id=\"T_d1ee4_row53_col1\" class=\"data row53 col1\" >classic</td>\n",
       "    </tr>\n",
       "    <tr>\n",
       "      <th id=\"T_d1ee4_level0_row54\" class=\"row_heading level0 row54\" >54</th>\n",
       "      <td id=\"T_d1ee4_row54_col0\" class=\"data row54 col0\" >Features Selection Threshold</td>\n",
       "      <td id=\"T_d1ee4_row54_col1\" class=\"data row54 col1\" >None</td>\n",
       "    </tr>\n",
       "    <tr>\n",
       "      <th id=\"T_d1ee4_level0_row55\" class=\"row_heading level0 row55\" >55</th>\n",
       "      <td id=\"T_d1ee4_row55_col0\" class=\"data row55 col0\" >Feature Interaction</td>\n",
       "      <td id=\"T_d1ee4_row55_col1\" class=\"data row55 col1\" >False</td>\n",
       "    </tr>\n",
       "    <tr>\n",
       "      <th id=\"T_d1ee4_level0_row56\" class=\"row_heading level0 row56\" >56</th>\n",
       "      <td id=\"T_d1ee4_row56_col0\" class=\"data row56 col0\" >Feature Ratio</td>\n",
       "      <td id=\"T_d1ee4_row56_col1\" class=\"data row56 col1\" >False</td>\n",
       "    </tr>\n",
       "    <tr>\n",
       "      <th id=\"T_d1ee4_level0_row57\" class=\"row_heading level0 row57\" >57</th>\n",
       "      <td id=\"T_d1ee4_row57_col0\" class=\"data row57 col0\" >Interaction Threshold</td>\n",
       "      <td id=\"T_d1ee4_row57_col1\" class=\"data row57 col1\" >None</td>\n",
       "    </tr>\n",
       "    <tr>\n",
       "      <th id=\"T_d1ee4_level0_row58\" class=\"row_heading level0 row58\" >58</th>\n",
       "      <td id=\"T_d1ee4_row58_col0\" class=\"data row58 col0\" >Fix Imbalance</td>\n",
       "      <td id=\"T_d1ee4_row58_col1\" class=\"data row58 col1\" >True</td>\n",
       "    </tr>\n",
       "    <tr>\n",
       "      <th id=\"T_d1ee4_level0_row59\" class=\"row_heading level0 row59\" >59</th>\n",
       "      <td id=\"T_d1ee4_row59_col0\" class=\"data row59 col0\" >Fix Imbalance Method</td>\n",
       "      <td id=\"T_d1ee4_row59_col1\" class=\"data row59 col1\" >SMOTE</td>\n",
       "    </tr>\n",
       "  </tbody>\n",
       "</table>\n"
      ],
      "text/plain": [
       "<pandas.io.formats.style.Styler at 0x1fb6900abb0>"
      ]
     },
     "metadata": {},
     "output_type": "display_data"
    }
   ],
   "source": [
    "s = setup(\n",
    "    df[['satisfaction', 'evaluation', 'averageMonthlyHours', 'yearsAtCompany', 'turnover']], # Dados.\n",
    "    target='turnover',                         # Alvo.\n",
    "    numeric_features=['yearsAtCompany', \n",
    "                      'averageMonthlyHours'],  # Definindo o tipo de atributos explicitamente. \n",
    "    normalize=True,                            # Settando a normalização.\n",
    "    normalize_method='minmax',                 # O tipo de normalização (MinMaxScaler).\n",
    "    data_split_stratify=True,                  # Estratificando os dados.\n",
    "    fix_imbalance=True                         # Desbalanceando as classes com SMOTE.\n",
    ")"
   ]
  },
  {
   "cell_type": "markdown",
   "id": "6612ce69",
   "metadata": {
    "tags": []
   },
   "source": [
    "#### Comparando diferentes modelos."
   ]
  },
  {
   "cell_type": "code",
   "execution_count": 49,
   "id": "02172f9a",
   "metadata": {},
   "outputs": [
    {
     "data": {
      "text/html": [
       "<style type=\"text/css\">\n",
       "#T_6ef76_ th {\n",
       "  text-align: left;\n",
       "}\n",
       "#T_6ef76_row0_col0, #T_6ef76_row0_col1, #T_6ef76_row0_col3, #T_6ef76_row0_col4, #T_6ef76_row0_col5, #T_6ef76_row0_col6, #T_6ef76_row0_col7, #T_6ef76_row1_col0, #T_6ef76_row1_col1, #T_6ef76_row1_col2, #T_6ef76_row1_col3, #T_6ef76_row1_col4, #T_6ef76_row1_col5, #T_6ef76_row1_col6, #T_6ef76_row1_col7, #T_6ef76_row2_col0, #T_6ef76_row2_col2, #T_6ef76_row2_col3, #T_6ef76_row3_col0, #T_6ef76_row3_col1, #T_6ef76_row3_col2, #T_6ef76_row3_col3, #T_6ef76_row3_col4, #T_6ef76_row3_col5, #T_6ef76_row3_col6, #T_6ef76_row3_col7, #T_6ef76_row4_col0, #T_6ef76_row4_col1, #T_6ef76_row4_col2, #T_6ef76_row4_col3, #T_6ef76_row4_col4, #T_6ef76_row4_col5, #T_6ef76_row4_col6, #T_6ef76_row4_col7, #T_6ef76_row5_col0, #T_6ef76_row5_col1, #T_6ef76_row5_col2, #T_6ef76_row5_col4, #T_6ef76_row5_col5, #T_6ef76_row5_col6, #T_6ef76_row5_col7, #T_6ef76_row6_col0, #T_6ef76_row6_col1, #T_6ef76_row6_col2, #T_6ef76_row6_col3, #T_6ef76_row6_col4, #T_6ef76_row6_col5, #T_6ef76_row6_col6, #T_6ef76_row6_col7, #T_6ef76_row7_col0, #T_6ef76_row7_col1, #T_6ef76_row7_col2, #T_6ef76_row7_col3, #T_6ef76_row7_col4, #T_6ef76_row7_col5, #T_6ef76_row7_col6, #T_6ef76_row7_col7, #T_6ef76_row8_col0, #T_6ef76_row8_col1, #T_6ef76_row8_col2, #T_6ef76_row8_col3, #T_6ef76_row8_col4, #T_6ef76_row8_col5, #T_6ef76_row8_col6, #T_6ef76_row8_col7, #T_6ef76_row9_col0, #T_6ef76_row9_col1, #T_6ef76_row9_col2, #T_6ef76_row9_col3, #T_6ef76_row9_col4, #T_6ef76_row9_col5, #T_6ef76_row9_col6, #T_6ef76_row9_col7, #T_6ef76_row10_col0, #T_6ef76_row10_col1, #T_6ef76_row10_col2, #T_6ef76_row10_col3, #T_6ef76_row10_col4, #T_6ef76_row10_col5, #T_6ef76_row10_col6, #T_6ef76_row10_col7, #T_6ef76_row11_col0, #T_6ef76_row11_col1, #T_6ef76_row11_col2, #T_6ef76_row11_col3, #T_6ef76_row11_col4, #T_6ef76_row11_col5, #T_6ef76_row11_col6, #T_6ef76_row11_col7, #T_6ef76_row12_col0, #T_6ef76_row12_col1, #T_6ef76_row12_col2, #T_6ef76_row12_col3, #T_6ef76_row12_col4, #T_6ef76_row12_col5, #T_6ef76_row12_col6, #T_6ef76_row12_col7, #T_6ef76_row13_col0, #T_6ef76_row13_col1, #T_6ef76_row13_col2, #T_6ef76_row13_col3, #T_6ef76_row13_col4, #T_6ef76_row13_col5, #T_6ef76_row13_col6, #T_6ef76_row13_col7 {\n",
       "  text-align: left;\n",
       "}\n",
       "#T_6ef76_row0_col2, #T_6ef76_row2_col1, #T_6ef76_row2_col4, #T_6ef76_row2_col5, #T_6ef76_row2_col6, #T_6ef76_row2_col7, #T_6ef76_row5_col3 {\n",
       "  text-align: left;\n",
       "  background-color: yellow;\n",
       "}\n",
       "#T_6ef76_row0_col8, #T_6ef76_row1_col8, #T_6ef76_row2_col8, #T_6ef76_row3_col8, #T_6ef76_row4_col8, #T_6ef76_row5_col8, #T_6ef76_row6_col8, #T_6ef76_row7_col8, #T_6ef76_row8_col8, #T_6ef76_row9_col8, #T_6ef76_row10_col8, #T_6ef76_row12_col8 {\n",
       "  text-align: left;\n",
       "  background-color: lightgrey;\n",
       "}\n",
       "#T_6ef76_row11_col8, #T_6ef76_row13_col8 {\n",
       "  text-align: left;\n",
       "  background-color: yellow;\n",
       "  background-color: lightgrey;\n",
       "}\n",
       "</style>\n",
       "<table id=\"T_6ef76_\">\n",
       "  <thead>\n",
       "    <tr>\n",
       "      <th class=\"blank level0\" >&nbsp;</th>\n",
       "      <th class=\"col_heading level0 col0\" >Model</th>\n",
       "      <th class=\"col_heading level0 col1\" >Accuracy</th>\n",
       "      <th class=\"col_heading level0 col2\" >AUC</th>\n",
       "      <th class=\"col_heading level0 col3\" >Recall</th>\n",
       "      <th class=\"col_heading level0 col4\" >Prec.</th>\n",
       "      <th class=\"col_heading level0 col5\" >F1</th>\n",
       "      <th class=\"col_heading level0 col6\" >Kappa</th>\n",
       "      <th class=\"col_heading level0 col7\" >MCC</th>\n",
       "      <th class=\"col_heading level0 col8\" >TT (Sec)</th>\n",
       "    </tr>\n",
       "  </thead>\n",
       "  <tbody>\n",
       "    <tr>\n",
       "      <th id=\"T_6ef76_level0_row0\" class=\"row_heading level0 row0\" >gbc</th>\n",
       "      <td id=\"T_6ef76_row0_col0\" class=\"data row0 col0\" >Gradient Boosting Classifier</td>\n",
       "      <td id=\"T_6ef76_row0_col1\" class=\"data row0 col1\" >0.8272</td>\n",
       "      <td id=\"T_6ef76_row0_col2\" class=\"data row0 col2\" >0.8056</td>\n",
       "      <td id=\"T_6ef76_row0_col3\" class=\"data row0 col3\" >0.6964</td>\n",
       "      <td id=\"T_6ef76_row0_col4\" class=\"data row0 col4\" >0.6228</td>\n",
       "      <td id=\"T_6ef76_row0_col5\" class=\"data row0 col5\" >0.6575</td>\n",
       "      <td id=\"T_6ef76_row0_col6\" class=\"data row0 col6\" >0.5425</td>\n",
       "      <td id=\"T_6ef76_row0_col7\" class=\"data row0 col7\" >0.5440</td>\n",
       "      <td id=\"T_6ef76_row0_col8\" class=\"data row0 col8\" >0.6860</td>\n",
       "    </tr>\n",
       "    <tr>\n",
       "      <th id=\"T_6ef76_level0_row1\" class=\"row_heading level0 row1\" >ada</th>\n",
       "      <td id=\"T_6ef76_row1_col0\" class=\"data row1 col0\" >Ada Boost Classifier</td>\n",
       "      <td id=\"T_6ef76_row1_col1\" class=\"data row1 col1\" >0.8010</td>\n",
       "      <td id=\"T_6ef76_row1_col2\" class=\"data row1 col2\" >0.7992</td>\n",
       "      <td id=\"T_6ef76_row1_col3\" class=\"data row1 col3\" >0.7072</td>\n",
       "      <td id=\"T_6ef76_row1_col4\" class=\"data row1 col4\" >0.5657</td>\n",
       "      <td id=\"T_6ef76_row1_col5\" class=\"data row1 col5\" >0.6284</td>\n",
       "      <td id=\"T_6ef76_row1_col6\" class=\"data row1 col6\" >0.4948</td>\n",
       "      <td id=\"T_6ef76_row1_col7\" class=\"data row1 col7\" >0.5008</td>\n",
       "      <td id=\"T_6ef76_row1_col8\" class=\"data row1 col8\" >0.2800</td>\n",
       "    </tr>\n",
       "    <tr>\n",
       "      <th id=\"T_6ef76_level0_row2\" class=\"row_heading level0 row2\" >lightgbm</th>\n",
       "      <td id=\"T_6ef76_row2_col0\" class=\"data row2 col0\" >Light Gradient Boosting Machine</td>\n",
       "      <td id=\"T_6ef76_row2_col1\" class=\"data row2 col1\" >0.8455</td>\n",
       "      <td id=\"T_6ef76_row2_col2\" class=\"data row2 col2\" >0.7968</td>\n",
       "      <td id=\"T_6ef76_row2_col3\" class=\"data row2 col3\" >0.6600</td>\n",
       "      <td id=\"T_6ef76_row2_col4\" class=\"data row2 col4\" >0.6813</td>\n",
       "      <td id=\"T_6ef76_row2_col5\" class=\"data row2 col5\" >0.6705</td>\n",
       "      <td id=\"T_6ef76_row2_col6\" class=\"data row2 col6\" >0.5696</td>\n",
       "      <td id=\"T_6ef76_row2_col7\" class=\"data row2 col7\" >0.5697</td>\n",
       "      <td id=\"T_6ef76_row2_col8\" class=\"data row2 col8\" >0.3540</td>\n",
       "    </tr>\n",
       "    <tr>\n",
       "      <th id=\"T_6ef76_level0_row3\" class=\"row_heading level0 row3\" >rf</th>\n",
       "      <td id=\"T_6ef76_row3_col0\" class=\"data row3 col0\" >Random Forest Classifier</td>\n",
       "      <td id=\"T_6ef76_row3_col1\" class=\"data row3 col1\" >0.8150</td>\n",
       "      <td id=\"T_6ef76_row3_col2\" class=\"data row3 col2\" >0.7789</td>\n",
       "      <td id=\"T_6ef76_row3_col3\" class=\"data row3 col3\" >0.5676</td>\n",
       "      <td id=\"T_6ef76_row3_col4\" class=\"data row3 col4\" >0.6223</td>\n",
       "      <td id=\"T_6ef76_row3_col5\" class=\"data row3 col5\" >0.5936</td>\n",
       "      <td id=\"T_6ef76_row3_col6\" class=\"data row3 col6\" >0.4742</td>\n",
       "      <td id=\"T_6ef76_row3_col7\" class=\"data row3 col7\" >0.4751</td>\n",
       "      <td id=\"T_6ef76_row3_col8\" class=\"data row3 col8\" >1.0820</td>\n",
       "    </tr>\n",
       "    <tr>\n",
       "      <th id=\"T_6ef76_level0_row4\" class=\"row_heading level0 row4\" >knn</th>\n",
       "      <td id=\"T_6ef76_row4_col0\" class=\"data row4 col0\" >K Neighbors Classifier</td>\n",
       "      <td id=\"T_6ef76_row4_col1\" class=\"data row4 col1\" >0.7384</td>\n",
       "      <td id=\"T_6ef76_row4_col2\" class=\"data row4 col2\" >0.7621</td>\n",
       "      <td id=\"T_6ef76_row4_col3\" class=\"data row4 col3\" >0.6920</td>\n",
       "      <td id=\"T_6ef76_row4_col4\" class=\"data row4 col4\" >0.4667</td>\n",
       "      <td id=\"T_6ef76_row4_col5\" class=\"data row4 col5\" >0.5574</td>\n",
       "      <td id=\"T_6ef76_row4_col6\" class=\"data row4 col6\" >0.3815</td>\n",
       "      <td id=\"T_6ef76_row4_col7\" class=\"data row4 col7\" >0.3965</td>\n",
       "      <td id=\"T_6ef76_row4_col8\" class=\"data row4 col8\" >0.1140</td>\n",
       "    </tr>\n",
       "    <tr>\n",
       "      <th id=\"T_6ef76_level0_row5\" class=\"row_heading level0 row5\" >qda</th>\n",
       "      <td id=\"T_6ef76_row5_col0\" class=\"data row5 col0\" >Quadratic Discriminant Analysis</td>\n",
       "      <td id=\"T_6ef76_row5_col1\" class=\"data row5 col1\" >0.7237</td>\n",
       "      <td id=\"T_6ef76_row5_col2\" class=\"data row5 col2\" >0.7561</td>\n",
       "      <td id=\"T_6ef76_row5_col3\" class=\"data row5 col3\" >0.7512</td>\n",
       "      <td id=\"T_6ef76_row5_col4\" class=\"data row5 col4\" >0.4520</td>\n",
       "      <td id=\"T_6ef76_row5_col5\" class=\"data row5 col5\" >0.5643</td>\n",
       "      <td id=\"T_6ef76_row5_col6\" class=\"data row5 col6\" >0.3799</td>\n",
       "      <td id=\"T_6ef76_row5_col7\" class=\"data row5 col7\" >0.4062</td>\n",
       "      <td id=\"T_6ef76_row5_col8\" class=\"data row5 col8\" >0.0300</td>\n",
       "    </tr>\n",
       "    <tr>\n",
       "      <th id=\"T_6ef76_level0_row6\" class=\"row_heading level0 row6\" >et</th>\n",
       "      <td id=\"T_6ef76_row6_col0\" class=\"data row6 col0\" >Extra Trees Classifier</td>\n",
       "      <td id=\"T_6ef76_row6_col1\" class=\"data row6 col1\" >0.8051</td>\n",
       "      <td id=\"T_6ef76_row6_col2\" class=\"data row6 col2\" >0.7530</td>\n",
       "      <td id=\"T_6ef76_row6_col3\" class=\"data row6 col3\" >0.5368</td>\n",
       "      <td id=\"T_6ef76_row6_col4\" class=\"data row6 col4\" >0.6019</td>\n",
       "      <td id=\"T_6ef76_row6_col5\" class=\"data row6 col5\" >0.5673</td>\n",
       "      <td id=\"T_6ef76_row6_col6\" class=\"data row6 col6\" >0.4421</td>\n",
       "      <td id=\"T_6ef76_row6_col7\" class=\"data row6 col7\" >0.4434</td>\n",
       "      <td id=\"T_6ef76_row6_col8\" class=\"data row6 col8\" >0.8640</td>\n",
       "    </tr>\n",
       "    <tr>\n",
       "      <th id=\"T_6ef76_level0_row7\" class=\"row_heading level0 row7\" >nb</th>\n",
       "      <td id=\"T_6ef76_row7_col0\" class=\"data row7 col0\" >Naive Bayes</td>\n",
       "      <td id=\"T_6ef76_row7_col1\" class=\"data row7 col1\" >0.7064</td>\n",
       "      <td id=\"T_6ef76_row7_col2\" class=\"data row7 col2\" >0.7145</td>\n",
       "      <td id=\"T_6ef76_row7_col3\" class=\"data row7 col3\" >0.5888</td>\n",
       "      <td id=\"T_6ef76_row7_col4\" class=\"data row7 col4\" >0.4178</td>\n",
       "      <td id=\"T_6ef76_row7_col5\" class=\"data row7 col5\" >0.4887</td>\n",
       "      <td id=\"T_6ef76_row7_col6\" class=\"data row7 col6\" >0.2912</td>\n",
       "      <td id=\"T_6ef76_row7_col7\" class=\"data row7 col7\" >0.2996</td>\n",
       "      <td id=\"T_6ef76_row7_col8\" class=\"data row7 col8\" >0.0300</td>\n",
       "    </tr>\n",
       "    <tr>\n",
       "      <th id=\"T_6ef76_level0_row8\" class=\"row_heading level0 row8\" >lr</th>\n",
       "      <td id=\"T_6ef76_row8_col0\" class=\"data row8 col0\" >Logistic Regression</td>\n",
       "      <td id=\"T_6ef76_row8_col1\" class=\"data row8 col1\" >0.6771</td>\n",
       "      <td id=\"T_6ef76_row8_col2\" class=\"data row8 col2\" >0.7000</td>\n",
       "      <td id=\"T_6ef76_row8_col3\" class=\"data row8 col3\" >0.6384</td>\n",
       "      <td id=\"T_6ef76_row8_col4\" class=\"data row8 col4\" >0.3909</td>\n",
       "      <td id=\"T_6ef76_row8_col5\" class=\"data row8 col5\" >0.4848</td>\n",
       "      <td id=\"T_6ef76_row8_col6\" class=\"data row8 col6\" >0.2690</td>\n",
       "      <td id=\"T_6ef76_row8_col7\" class=\"data row8 col7\" >0.2863</td>\n",
       "      <td id=\"T_6ef76_row8_col8\" class=\"data row8 col8\" >1.0800</td>\n",
       "    </tr>\n",
       "    <tr>\n",
       "      <th id=\"T_6ef76_level0_row9\" class=\"row_heading level0 row9\" >lda</th>\n",
       "      <td id=\"T_6ef76_row9_col0\" class=\"data row9 col0\" >Linear Discriminant Analysis</td>\n",
       "      <td id=\"T_6ef76_row9_col1\" class=\"data row9 col1\" >0.6813</td>\n",
       "      <td id=\"T_6ef76_row9_col2\" class=\"data row9 col2\" >0.6994</td>\n",
       "      <td id=\"T_6ef76_row9_col3\" class=\"data row9 col3\" >0.6308</td>\n",
       "      <td id=\"T_6ef76_row9_col4\" class=\"data row9 col4\" >0.3943</td>\n",
       "      <td id=\"T_6ef76_row9_col5\" class=\"data row9 col5\" >0.4852</td>\n",
       "      <td id=\"T_6ef76_row9_col6\" class=\"data row9 col6\" >0.2718</td>\n",
       "      <td id=\"T_6ef76_row9_col7\" class=\"data row9 col7\" >0.2876</td>\n",
       "      <td id=\"T_6ef76_row9_col8\" class=\"data row9 col8\" >0.0360</td>\n",
       "    </tr>\n",
       "    <tr>\n",
       "      <th id=\"T_6ef76_level0_row10\" class=\"row_heading level0 row10\" >dt</th>\n",
       "      <td id=\"T_6ef76_row10_col0\" class=\"data row10 col0\" >Decision Tree Classifier</td>\n",
       "      <td id=\"T_6ef76_row10_col1\" class=\"data row10 col1\" >0.7428</td>\n",
       "      <td id=\"T_6ef76_row10_col2\" class=\"data row10 col2\" >0.6675</td>\n",
       "      <td id=\"T_6ef76_row10_col3\" class=\"data row10 col3\" >0.5092</td>\n",
       "      <td id=\"T_6ef76_row10_col4\" class=\"data row10 col4\" >0.4636</td>\n",
       "      <td id=\"T_6ef76_row10_col5\" class=\"data row10 col5\" >0.4853</td>\n",
       "      <td id=\"T_6ef76_row10_col6\" class=\"data row10 col6\" >0.3144</td>\n",
       "      <td id=\"T_6ef76_row10_col7\" class=\"data row10 col7\" >0.3151</td>\n",
       "      <td id=\"T_6ef76_row10_col8\" class=\"data row10 col8\" >0.0540</td>\n",
       "    </tr>\n",
       "    <tr>\n",
       "      <th id=\"T_6ef76_level0_row11\" class=\"row_heading level0 row11\" >dummy</th>\n",
       "      <td id=\"T_6ef76_row11_col0\" class=\"data row11 col0\" >Dummy Classifier</td>\n",
       "      <td id=\"T_6ef76_row11_col1\" class=\"data row11 col1\" >0.7619</td>\n",
       "      <td id=\"T_6ef76_row11_col2\" class=\"data row11 col2\" >0.5000</td>\n",
       "      <td id=\"T_6ef76_row11_col3\" class=\"data row11 col3\" >0.0000</td>\n",
       "      <td id=\"T_6ef76_row11_col4\" class=\"data row11 col4\" >0.0000</td>\n",
       "      <td id=\"T_6ef76_row11_col5\" class=\"data row11 col5\" >0.0000</td>\n",
       "      <td id=\"T_6ef76_row11_col6\" class=\"data row11 col6\" >0.0000</td>\n",
       "      <td id=\"T_6ef76_row11_col7\" class=\"data row11 col7\" >0.0000</td>\n",
       "      <td id=\"T_6ef76_row11_col8\" class=\"data row11 col8\" >0.0280</td>\n",
       "    </tr>\n",
       "    <tr>\n",
       "      <th id=\"T_6ef76_level0_row12\" class=\"row_heading level0 row12\" >svm</th>\n",
       "      <td id=\"T_6ef76_row12_col0\" class=\"data row12 col0\" >SVM - Linear Kernel</td>\n",
       "      <td id=\"T_6ef76_row12_col1\" class=\"data row12 col1\" >0.6814</td>\n",
       "      <td id=\"T_6ef76_row12_col2\" class=\"data row12 col2\" >0.0000</td>\n",
       "      <td id=\"T_6ef76_row12_col3\" class=\"data row12 col3\" >0.6172</td>\n",
       "      <td id=\"T_6ef76_row12_col4\" class=\"data row12 col4\" >0.3966</td>\n",
       "      <td id=\"T_6ef76_row12_col5\" class=\"data row12 col5\" >0.4815</td>\n",
       "      <td id=\"T_6ef76_row12_col6\" class=\"data row12 col6\" >0.2686</td>\n",
       "      <td id=\"T_6ef76_row12_col7\" class=\"data row12 col7\" >0.2825</td>\n",
       "      <td id=\"T_6ef76_row12_col8\" class=\"data row12 col8\" >0.0440</td>\n",
       "    </tr>\n",
       "    <tr>\n",
       "      <th id=\"T_6ef76_level0_row13\" class=\"row_heading level0 row13\" >ridge</th>\n",
       "      <td id=\"T_6ef76_row13_col0\" class=\"data row13 col0\" >Ridge Classifier</td>\n",
       "      <td id=\"T_6ef76_row13_col1\" class=\"data row13 col1\" >0.6812</td>\n",
       "      <td id=\"T_6ef76_row13_col2\" class=\"data row13 col2\" >0.0000</td>\n",
       "      <td id=\"T_6ef76_row13_col3\" class=\"data row13 col3\" >0.6308</td>\n",
       "      <td id=\"T_6ef76_row13_col4\" class=\"data row13 col4\" >0.3942</td>\n",
       "      <td id=\"T_6ef76_row13_col5\" class=\"data row13 col5\" >0.4851</td>\n",
       "      <td id=\"T_6ef76_row13_col6\" class=\"data row13 col6\" >0.2717</td>\n",
       "      <td id=\"T_6ef76_row13_col7\" class=\"data row13 col7\" >0.2875</td>\n",
       "      <td id=\"T_6ef76_row13_col8\" class=\"data row13 col8\" >0.0280</td>\n",
       "    </tr>\n",
       "  </tbody>\n",
       "</table>\n"
      ],
      "text/plain": [
       "<pandas.io.formats.style.Styler at 0x1fb67eed9d0>"
      ]
     },
     "metadata": {},
     "output_type": "display_data"
    }
   ],
   "source": [
    "best = compare_models(\n",
    "    fold=5,    # Usaremos 5 folds na validação cruzada dos modelos.\n",
    "    sort='AUC' # Ordenaremos pela métrica de Área Sob a Curva ROC.\n",
    ")"
   ]
  },
  {
   "cell_type": "markdown",
   "id": "d6af08bc",
   "metadata": {},
   "source": [
    "#### Criando o modelo."
   ]
  },
  {
   "cell_type": "code",
   "execution_count": 50,
   "id": "edcf1615",
   "metadata": {
    "scrolled": true
   },
   "outputs": [
    {
     "data": {
      "text/html": [
       "<style type=\"text/css\">\n",
       "#T_ba0ec_row5_col0, #T_ba0ec_row5_col1, #T_ba0ec_row5_col2, #T_ba0ec_row5_col3, #T_ba0ec_row5_col4, #T_ba0ec_row5_col5, #T_ba0ec_row5_col6 {\n",
       "  background: yellow;\n",
       "}\n",
       "</style>\n",
       "<table id=\"T_ba0ec_\">\n",
       "  <thead>\n",
       "    <tr>\n",
       "      <th class=\"blank level0\" >&nbsp;</th>\n",
       "      <th class=\"col_heading level0 col0\" >Accuracy</th>\n",
       "      <th class=\"col_heading level0 col1\" >AUC</th>\n",
       "      <th class=\"col_heading level0 col2\" >Recall</th>\n",
       "      <th class=\"col_heading level0 col3\" >Prec.</th>\n",
       "      <th class=\"col_heading level0 col4\" >F1</th>\n",
       "      <th class=\"col_heading level0 col5\" >Kappa</th>\n",
       "      <th class=\"col_heading level0 col6\" >MCC</th>\n",
       "    </tr>\n",
       "    <tr>\n",
       "      <th class=\"index_name level0\" >Fold</th>\n",
       "      <th class=\"blank col0\" >&nbsp;</th>\n",
       "      <th class=\"blank col1\" >&nbsp;</th>\n",
       "      <th class=\"blank col2\" >&nbsp;</th>\n",
       "      <th class=\"blank col3\" >&nbsp;</th>\n",
       "      <th class=\"blank col4\" >&nbsp;</th>\n",
       "      <th class=\"blank col5\" >&nbsp;</th>\n",
       "      <th class=\"blank col6\" >&nbsp;</th>\n",
       "    </tr>\n",
       "  </thead>\n",
       "  <tbody>\n",
       "    <tr>\n",
       "      <th id=\"T_ba0ec_level0_row0\" class=\"row_heading level0 row0\" >0</th>\n",
       "      <td id=\"T_ba0ec_row0_col0\" class=\"data row0 col0\" >0.8214</td>\n",
       "      <td id=\"T_ba0ec_row0_col1\" class=\"data row0 col1\" >0.8063</td>\n",
       "      <td id=\"T_ba0ec_row0_col2\" class=\"data row0 col2\" >0.7020</td>\n",
       "      <td id=\"T_ba0ec_row0_col3\" class=\"data row0 col3\" >0.6083</td>\n",
       "      <td id=\"T_ba0ec_row0_col4\" class=\"data row0 col4\" >0.6518</td>\n",
       "      <td id=\"T_ba0ec_row0_col5\" class=\"data row0 col5\" >0.5326</td>\n",
       "      <td id=\"T_ba0ec_row0_col6\" class=\"data row0 col6\" >0.5350</td>\n",
       "    </tr>\n",
       "    <tr>\n",
       "      <th id=\"T_ba0ec_level0_row1\" class=\"row_heading level0 row1\" >1</th>\n",
       "      <td id=\"T_ba0ec_row1_col0\" class=\"data row1 col0\" >0.8205</td>\n",
       "      <td id=\"T_ba0ec_row1_col1\" class=\"data row1 col1\" >0.7845</td>\n",
       "      <td id=\"T_ba0ec_row1_col2\" class=\"data row1 col2\" >0.6740</td>\n",
       "      <td id=\"T_ba0ec_row1_col3\" class=\"data row1 col3\" >0.6116</td>\n",
       "      <td id=\"T_ba0ec_row1_col4\" class=\"data row1 col4\" >0.6413</td>\n",
       "      <td id=\"T_ba0ec_row1_col5\" class=\"data row1 col5\" >0.5219</td>\n",
       "      <td id=\"T_ba0ec_row1_col6\" class=\"data row1 col6\" >0.5230</td>\n",
       "    </tr>\n",
       "    <tr>\n",
       "      <th id=\"T_ba0ec_level0_row2\" class=\"row_heading level0 row2\" >2</th>\n",
       "      <td id=\"T_ba0ec_row2_col0\" class=\"data row2 col0\" >0.8219</td>\n",
       "      <td id=\"T_ba0ec_row2_col1\" class=\"data row2 col1\" >0.7937</td>\n",
       "      <td id=\"T_ba0ec_row2_col2\" class=\"data row2 col2\" >0.6840</td>\n",
       "      <td id=\"T_ba0ec_row2_col3\" class=\"data row2 col3\" >0.6129</td>\n",
       "      <td id=\"T_ba0ec_row2_col4\" class=\"data row2 col4\" >0.6465</td>\n",
       "      <td id=\"T_ba0ec_row2_col5\" class=\"data row2 col5\" >0.5279</td>\n",
       "      <td id=\"T_ba0ec_row2_col6\" class=\"data row2 col6\" >0.5294</td>\n",
       "    </tr>\n",
       "    <tr>\n",
       "      <th id=\"T_ba0ec_level0_row3\" class=\"row_heading level0 row3\" >3</th>\n",
       "      <td id=\"T_ba0ec_row3_col0\" class=\"data row3 col0\" >0.8319</td>\n",
       "      <td id=\"T_ba0ec_row3_col1\" class=\"data row3 col1\" >0.8238</td>\n",
       "      <td id=\"T_ba0ec_row3_col2\" class=\"data row3 col2\" >0.7060</td>\n",
       "      <td id=\"T_ba0ec_row3_col3\" class=\"data row3 col3\" >0.6315</td>\n",
       "      <td id=\"T_ba0ec_row3_col4\" class=\"data row3 col4\" >0.6667</td>\n",
       "      <td id=\"T_ba0ec_row3_col5\" class=\"data row3 col5\" >0.5547</td>\n",
       "      <td id=\"T_ba0ec_row3_col6\" class=\"data row3 col6\" >0.5563</td>\n",
       "    </tr>\n",
       "    <tr>\n",
       "      <th id=\"T_ba0ec_level0_row4\" class=\"row_heading level0 row4\" >4</th>\n",
       "      <td id=\"T_ba0ec_row4_col0\" class=\"data row4 col0\" >0.8404</td>\n",
       "      <td id=\"T_ba0ec_row4_col1\" class=\"data row4 col1\" >0.8199</td>\n",
       "      <td id=\"T_ba0ec_row4_col2\" class=\"data row4 col2\" >0.7160</td>\n",
       "      <td id=\"T_ba0ec_row4_col3\" class=\"data row4 col3\" >0.6497</td>\n",
       "      <td id=\"T_ba0ec_row4_col4\" class=\"data row4 col4\" >0.6813</td>\n",
       "      <td id=\"T_ba0ec_row4_col5\" class=\"data row4 col5\" >0.5751</td>\n",
       "      <td id=\"T_ba0ec_row4_col6\" class=\"data row4 col6\" >0.5763</td>\n",
       "    </tr>\n",
       "    <tr>\n",
       "      <th id=\"T_ba0ec_level0_row5\" class=\"row_heading level0 row5\" >Mean</th>\n",
       "      <td id=\"T_ba0ec_row5_col0\" class=\"data row5 col0\" >0.8272</td>\n",
       "      <td id=\"T_ba0ec_row5_col1\" class=\"data row5 col1\" >0.8056</td>\n",
       "      <td id=\"T_ba0ec_row5_col2\" class=\"data row5 col2\" >0.6964</td>\n",
       "      <td id=\"T_ba0ec_row5_col3\" class=\"data row5 col3\" >0.6228</td>\n",
       "      <td id=\"T_ba0ec_row5_col4\" class=\"data row5 col4\" >0.6575</td>\n",
       "      <td id=\"T_ba0ec_row5_col5\" class=\"data row5 col5\" >0.5425</td>\n",
       "      <td id=\"T_ba0ec_row5_col6\" class=\"data row5 col6\" >0.5440</td>\n",
       "    </tr>\n",
       "    <tr>\n",
       "      <th id=\"T_ba0ec_level0_row6\" class=\"row_heading level0 row6\" >Std</th>\n",
       "      <td id=\"T_ba0ec_row6_col0\" class=\"data row6 col0\" >0.0078</td>\n",
       "      <td id=\"T_ba0ec_row6_col1\" class=\"data row6 col1\" >0.0150</td>\n",
       "      <td id=\"T_ba0ec_row6_col2\" class=\"data row6 col2\" >0.0153</td>\n",
       "      <td id=\"T_ba0ec_row6_col3\" class=\"data row6 col3\" >0.0157</td>\n",
       "      <td id=\"T_ba0ec_row6_col4\" class=\"data row6 col4\" >0.0146</td>\n",
       "      <td id=\"T_ba0ec_row6_col5\" class=\"data row6 col5\" >0.0197</td>\n",
       "      <td id=\"T_ba0ec_row6_col6\" class=\"data row6 col6\" >0.0197</td>\n",
       "    </tr>\n",
       "  </tbody>\n",
       "</table>\n"
      ],
      "text/plain": [
       "<pandas.io.formats.style.Styler at 0x1fb69130be0>"
      ]
     },
     "metadata": {},
     "output_type": "display_data"
    }
   ],
   "source": [
    "gbc = create_model('gbc', fold=5)"
   ]
  },
  {
   "cell_type": "code",
   "execution_count": 51,
   "id": "4737cdd4",
   "metadata": {},
   "outputs": [
    {
     "data": {
      "text/html": [
       "<style type=\"text/css\">\n",
       "</style>\n",
       "<table id=\"T_c7aee_\">\n",
       "  <thead>\n",
       "    <tr>\n",
       "      <th class=\"blank level0\" >&nbsp;</th>\n",
       "      <th class=\"col_heading level0 col0\" >Model</th>\n",
       "      <th class=\"col_heading level0 col1\" >Accuracy</th>\n",
       "      <th class=\"col_heading level0 col2\" >AUC</th>\n",
       "      <th class=\"col_heading level0 col3\" >Recall</th>\n",
       "      <th class=\"col_heading level0 col4\" >Prec.</th>\n",
       "      <th class=\"col_heading level0 col5\" >F1</th>\n",
       "      <th class=\"col_heading level0 col6\" >Kappa</th>\n",
       "      <th class=\"col_heading level0 col7\" >MCC</th>\n",
       "    </tr>\n",
       "  </thead>\n",
       "  <tbody>\n",
       "    <tr>\n",
       "      <th id=\"T_c7aee_level0_row0\" class=\"row_heading level0 row0\" >0</th>\n",
       "      <td id=\"T_c7aee_row0_col0\" class=\"data row0 col0\" >Gradient Boosting Classifier</td>\n",
       "      <td id=\"T_c7aee_row0_col1\" class=\"data row0 col1\" >0.8291</td>\n",
       "      <td id=\"T_c7aee_row0_col2\" class=\"data row0 col2\" >0.8180</td>\n",
       "      <td id=\"T_c7aee_row0_col3\" class=\"data row0 col3\" >0.6978</td>\n",
       "      <td id=\"T_c7aee_row0_col4\" class=\"data row0 col4\" >0.6268</td>\n",
       "      <td id=\"T_c7aee_row0_col5\" class=\"data row0 col5\" >0.6604</td>\n",
       "      <td id=\"T_c7aee_row0_col6\" class=\"data row0 col6\" >0.5467</td>\n",
       "      <td id=\"T_c7aee_row0_col7\" class=\"data row0 col7\" >0.5481</td>\n",
       "    </tr>\n",
       "  </tbody>\n",
       "</table>\n"
      ],
      "text/plain": [
       "<pandas.io.formats.style.Styler at 0x1fb62734af0>"
      ]
     },
     "metadata": {},
     "output_type": "display_data"
    },
    {
     "data": {
      "text/html": [
       "<div>\n",
       "<style scoped>\n",
       "    .dataframe tbody tr th:only-of-type {\n",
       "        vertical-align: middle;\n",
       "    }\n",
       "\n",
       "    .dataframe tbody tr th {\n",
       "        vertical-align: top;\n",
       "    }\n",
       "\n",
       "    .dataframe thead th {\n",
       "        text-align: right;\n",
       "    }\n",
       "</style>\n",
       "<table border=\"1\" class=\"dataframe\">\n",
       "  <thead>\n",
       "    <tr style=\"text-align: right;\">\n",
       "      <th></th>\n",
       "      <th>department</th>\n",
       "      <th>salary</th>\n",
       "      <th>averageMonthlyHours</th>\n",
       "      <th>projectCount</th>\n",
       "      <th>satisfaction</th>\n",
       "      <th>evaluation</th>\n",
       "      <th>yearsAtCompany</th>\n",
       "      <th>workAccident</th>\n",
       "      <th>turnover</th>\n",
       "      <th>Label</th>\n",
       "      <th>Score</th>\n",
       "    </tr>\n",
       "  </thead>\n",
       "  <tbody>\n",
       "    <tr>\n",
       "      <th>0</th>\n",
       "      <td>7</td>\n",
       "      <td>1</td>\n",
       "      <td>266</td>\n",
       "      <td>2</td>\n",
       "      <td>38.0</td>\n",
       "      <td>53.0</td>\n",
       "      <td>3</td>\n",
       "      <td>0</td>\n",
       "      <td>1</td>\n",
       "      <td>1</td>\n",
       "      <td>0.8378</td>\n",
       "    </tr>\n",
       "    <tr>\n",
       "      <th>1</th>\n",
       "      <td>7</td>\n",
       "      <td>2</td>\n",
       "      <td>252</td>\n",
       "      <td>5</td>\n",
       "      <td>80.0</td>\n",
       "      <td>86.0</td>\n",
       "      <td>6</td>\n",
       "      <td>0</td>\n",
       "      <td>1</td>\n",
       "      <td>1</td>\n",
       "      <td>0.7093</td>\n",
       "    </tr>\n",
       "    <tr>\n",
       "      <th>2</th>\n",
       "      <td>7</td>\n",
       "      <td>2</td>\n",
       "      <td>289</td>\n",
       "      <td>7</td>\n",
       "      <td>11.0</td>\n",
       "      <td>88.0</td>\n",
       "      <td>4</td>\n",
       "      <td>0</td>\n",
       "      <td>1</td>\n",
       "      <td>1</td>\n",
       "      <td>0.8323</td>\n",
       "    </tr>\n",
       "    <tr>\n",
       "      <th>3</th>\n",
       "      <td>7</td>\n",
       "      <td>1</td>\n",
       "      <td>275</td>\n",
       "      <td>5</td>\n",
       "      <td>72.0</td>\n",
       "      <td>87.0</td>\n",
       "      <td>5</td>\n",
       "      <td>0</td>\n",
       "      <td>1</td>\n",
       "      <td>1</td>\n",
       "      <td>0.7934</td>\n",
       "    </tr>\n",
       "    <tr>\n",
       "      <th>4</th>\n",
       "      <td>7</td>\n",
       "      <td>1</td>\n",
       "      <td>292</td>\n",
       "      <td>2</td>\n",
       "      <td>37.0</td>\n",
       "      <td>52.0</td>\n",
       "      <td>3</td>\n",
       "      <td>0</td>\n",
       "      <td>1</td>\n",
       "      <td>1</td>\n",
       "      <td>0.8287</td>\n",
       "    </tr>\n",
       "    <tr>\n",
       "      <th>...</th>\n",
       "      <td>...</td>\n",
       "      <td>...</td>\n",
       "      <td>...</td>\n",
       "      <td>...</td>\n",
       "      <td>...</td>\n",
       "      <td>...</td>\n",
       "      <td>...</td>\n",
       "      <td>...</td>\n",
       "      <td>...</td>\n",
       "      <td>...</td>\n",
       "      <td>...</td>\n",
       "    </tr>\n",
       "    <tr>\n",
       "      <th>14994</th>\n",
       "      <td>7</td>\n",
       "      <td>1</td>\n",
       "      <td>287</td>\n",
       "      <td>2</td>\n",
       "      <td>40.0</td>\n",
       "      <td>57.0</td>\n",
       "      <td>3</td>\n",
       "      <td>0</td>\n",
       "      <td>1</td>\n",
       "      <td>1</td>\n",
       "      <td>0.7995</td>\n",
       "    </tr>\n",
       "    <tr>\n",
       "      <th>14995</th>\n",
       "      <td>9</td>\n",
       "      <td>1</td>\n",
       "      <td>253</td>\n",
       "      <td>2</td>\n",
       "      <td>37.0</td>\n",
       "      <td>48.0</td>\n",
       "      <td>3</td>\n",
       "      <td>0</td>\n",
       "      <td>1</td>\n",
       "      <td>1</td>\n",
       "      <td>0.7956</td>\n",
       "    </tr>\n",
       "    <tr>\n",
       "      <th>14996</th>\n",
       "      <td>9</td>\n",
       "      <td>2</td>\n",
       "      <td>288</td>\n",
       "      <td>2</td>\n",
       "      <td>37.0</td>\n",
       "      <td>53.0</td>\n",
       "      <td>3</td>\n",
       "      <td>0</td>\n",
       "      <td>1</td>\n",
       "      <td>1</td>\n",
       "      <td>0.8287</td>\n",
       "    </tr>\n",
       "    <tr>\n",
       "      <th>14997</th>\n",
       "      <td>8</td>\n",
       "      <td>1</td>\n",
       "      <td>272</td>\n",
       "      <td>6</td>\n",
       "      <td>11.0</td>\n",
       "      <td>96.0</td>\n",
       "      <td>4</td>\n",
       "      <td>0</td>\n",
       "      <td>1</td>\n",
       "      <td>1</td>\n",
       "      <td>0.8320</td>\n",
       "    </tr>\n",
       "    <tr>\n",
       "      <th>14998</th>\n",
       "      <td>8</td>\n",
       "      <td>1</td>\n",
       "      <td>276</td>\n",
       "      <td>2</td>\n",
       "      <td>37.0</td>\n",
       "      <td>52.0</td>\n",
       "      <td>3</td>\n",
       "      <td>0</td>\n",
       "      <td>1</td>\n",
       "      <td>1</td>\n",
       "      <td>0.8495</td>\n",
       "    </tr>\n",
       "  </tbody>\n",
       "</table>\n",
       "<p>14999 rows × 11 columns</p>\n",
       "</div>"
      ],
      "text/plain": [
       "       department  salary  averageMonthlyHours  projectCount  satisfaction  \\\n",
       "0               7       1                  266             2          38.0   \n",
       "1               7       2                  252             5          80.0   \n",
       "2               7       2                  289             7          11.0   \n",
       "3               7       1                  275             5          72.0   \n",
       "4               7       1                  292             2          37.0   \n",
       "...           ...     ...                  ...           ...           ...   \n",
       "14994           7       1                  287             2          40.0   \n",
       "14995           9       1                  253             2          37.0   \n",
       "14996           9       2                  288             2          37.0   \n",
       "14997           8       1                  272             6          11.0   \n",
       "14998           8       1                  276             2          37.0   \n",
       "\n",
       "       evaluation  yearsAtCompany  workAccident  turnover  Label   Score  \n",
       "0            53.0               3             0         1      1  0.8378  \n",
       "1            86.0               6             0         1      1  0.7093  \n",
       "2            88.0               4             0         1      1  0.8323  \n",
       "3            87.0               5             0         1      1  0.7934  \n",
       "4            52.0               3             0         1      1  0.8287  \n",
       "...           ...             ...           ...       ...    ...     ...  \n",
       "14994        57.0               3             0         1      1  0.7995  \n",
       "14995        48.0               3             0         1      1  0.7956  \n",
       "14996        53.0               3             0         1      1  0.8287  \n",
       "14997        96.0               4             0         1      1  0.8320  \n",
       "14998        52.0               3             0         1      1  0.8495  \n",
       "\n",
       "[14999 rows x 11 columns]"
      ]
     },
     "execution_count": 51,
     "metadata": {},
     "output_type": "execute_result"
    }
   ],
   "source": [
    "predict_model(gbc, data=df)"
   ]
  },
  {
   "cell_type": "markdown",
   "id": "b498f3ab",
   "metadata": {},
   "source": [
    "#### Finalizando o modelo."
   ]
  },
  {
   "cell_type": "code",
   "execution_count": 52,
   "id": "3b110ac6",
   "metadata": {},
   "outputs": [],
   "source": [
    "final_model = finalize_model(gbc)"
   ]
  },
  {
   "cell_type": "code",
   "execution_count": 53,
   "id": "d0a246f8",
   "metadata": {},
   "outputs": [
    {
     "name": "stdout",
     "output_type": "stream",
     "text": [
      "Transformation Pipeline and Model Successfully Saved\n"
     ]
    },
    {
     "data": {
      "text/plain": [
       "(Pipeline(memory=None,\n",
       "          steps=[('dtypes',\n",
       "                  DataTypes_Auto_infer(categorical_features=[],\n",
       "                                       display_types=True, features_todrop=[],\n",
       "                                       id_columns=[],\n",
       "                                       ml_usecase='classification',\n",
       "                                       numerical_features=['yearsAtCompany',\n",
       "                                                           'averageMonthlyHours'],\n",
       "                                       target='turnover', time_features=[])),\n",
       "                 ('imputer',\n",
       "                  Simple_Imputer(categorical_strategy='not_available',\n",
       "                                 fill_value_categorical=None...\n",
       "                                             learning_rate=0.1, loss='deviance',\n",
       "                                             max_depth=3, max_features=None,\n",
       "                                             max_leaf_nodes=None,\n",
       "                                             min_impurity_decrease=0.0,\n",
       "                                             min_impurity_split=None,\n",
       "                                             min_samples_leaf=1,\n",
       "                                             min_samples_split=2,\n",
       "                                             min_weight_fraction_leaf=0.0,\n",
       "                                             n_estimators=100,\n",
       "                                             n_iter_no_change=None,\n",
       "                                             presort='deprecated',\n",
       "                                             random_state=2504, subsample=1.0,\n",
       "                                             tol=0.0001, validation_fraction=0.1,\n",
       "                                             verbose=0, warm_start=False)]],\n",
       "          verbose=False),\n",
       " 'model.pkl')"
      ]
     },
     "execution_count": 53,
     "metadata": {},
     "output_type": "execute_result"
    }
   ],
   "source": [
    "save_model(final_model, 'model')"
   ]
  },
  {
   "cell_type": "markdown",
   "id": "a87ed577",
   "metadata": {},
   "source": [
    "#### Exportando o modelo e os dados para o datalake."
   ]
  },
  {
   "cell_type": "code",
   "execution_count": 54,
   "id": "b438b749",
   "metadata": {},
   "outputs": [
    {
     "data": {
      "text/plain": [
       "<minio.helpers.ObjectWriteResult at 0x1fb4ace01c0>"
      ]
     },
     "execution_count": 54,
     "metadata": {},
     "output_type": "execute_result"
    }
   ],
   "source": [
    "client.fput_object(\n",
    "    \"curated\",    # Nome do bucket.\n",
    "    \"model.pkl\",  # Nome do arquivo local.\n",
    "    \"model.pkl\"   # Nome do arquivo que será salvo no bucket.\n",
    ")"
   ]
  },
  {
   "cell_type": "code",
   "execution_count": 55,
   "id": "a65fc51b",
   "metadata": {
    "scrolled": true
   },
   "outputs": [],
   "source": [
    "df[[\"satisfaction\", \n",
    "    \"evaluation\", \n",
    "    \"averageMonthlyHours\", \n",
    "    \"yearsAtCompany\", \n",
    "    \"turnover\"]].to_csv(\"dataset.csv\", index=False)"
   ]
  },
  {
   "cell_type": "code",
   "execution_count": 56,
   "id": "bc43bf6c",
   "metadata": {
    "scrolled": true
   },
   "outputs": [
    {
     "data": {
      "text/plain": [
       "<minio.helpers.ObjectWriteResult at 0x1fb6915b040>"
      ]
     },
     "execution_count": 56,
     "metadata": {},
     "output_type": "execute_result"
    }
   ],
   "source": [
    "client.fput_object(\n",
    "    \"curated\",\n",
    "    \"dataset.csv\",\n",
    "    \"dataset.csv\"\n",
    ")"
   ]
  },
  {
   "cell_type": "markdown",
   "id": "14931a35",
   "metadata": {},
   "source": [
    "#### Limpando o diretório atual."
   ]
  },
  {
   "cell_type": "code",
   "execution_count": 57,
   "id": "0e2c2574",
   "metadata": {},
   "outputs": [],
   "source": [
    "import os"
   ]
  },
  {
   "cell_type": "code",
   "execution_count": 58,
   "id": "9b4d17de",
   "metadata": {},
   "outputs": [],
   "source": [
    "for file in ('model.pkl', 'dataset.csv', 'temp_.parquet'):\n",
    "    os.remove(os.getcwd() + f'\\\\{file}')"
   ]
  }
 ],
 "metadata": {
  "kernelspec": {
   "display_name": "Python 3 (ipykernel)",
   "language": "python",
   "name": "python3"
  },
  "language_info": {
   "codemirror_mode": {
    "name": "ipython",
    "version": 3
   },
   "file_extension": ".py",
   "mimetype": "text/x-python",
   "name": "python",
   "nbconvert_exporter": "python",
   "pygments_lexer": "ipython3",
   "version": "3.8.12"
  }
 },
 "nbformat": 4,
 "nbformat_minor": 5
}
